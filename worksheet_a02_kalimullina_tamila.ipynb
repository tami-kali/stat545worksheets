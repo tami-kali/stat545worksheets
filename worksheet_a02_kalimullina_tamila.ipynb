{
 "cells": [
  {
   "cell_type": "markdown",
   "metadata": {
    "deletable": false,
    "editable": false,
    "nbgrader": {
     "cell_type": "markdown",
     "checksum": "22e4a877f4aad26d0adde61c18150499",
     "grade": false,
     "grade_id": "cell-1eb22459a7e45546",
     "locked": true,
     "schema_version": 3,
     "solution": false,
     "task": false
    }
   },
   "source": [
    "# Lecture Worksheet A-2: Data Wrangling with dplyr\n",
    "\n",
    "By the end of this worksheet, you will be able to: \n",
    "\n",
    "1. Use the five core dplyr verbs for data wrangling: `select()`, `filter()`, `arrange()`, `mutate()`, `summarise()`.\n",
    "2. Use piping when implementing function chains.\n",
    "3. Use `group_by()` to operate within groups (of rows) with `mutate()` and `summarise()`. \n",
    "4. Use `across()` to operate on multiple columns with `summarise()` and `mutate()`.\n",
    "\n",
    "## Instructions + Grading\n",
    "\n",
    "+ To get full marks for each participation worksheet, you must successfully answer at least 50% of all autograded questions: that's 10 for this worksheet. \n",
    "\n",
    "+ Autograded questions are easily identifiable through their labelling as **QUESTION**. Any other instructions that prompt the student to write code are activities, which are not graded and thus do not contribute to marks - but do contribute to the workflow of the worksheet!\n",
    "\n",
    "## Attribution\n",
    "\n",
    "Thanks to Icíar Fernández Boyano and Victor Yuan for their help in putting this worksheet together. \n",
    "\n",
    "The following resources were used as inspiration in the creation of this worksheet:\n",
    "\n",
    "+ [Swirl R Programming Tutorial](https://swirlstats.com/scn/rprog.html)\n",
    "+ [Palmer Penguins R Package](https://github.com/hadley/palmerpenguins)\n",
    "+ [RD4S Data Transformation](https://r4ds.had.co.nz/transform.html)\n",
    "\n",
    "\n",
    "## Five core dplyr verbs: an overview of this worksheet\n",
    "\n",
    "So far, we've **looked** at our dataset. It's time to **work with** it! Prior to creating any models, or using visualization to gain more insights about our data, it is common to tweak the data in some ways to make it a little easier to work with. For example, you may need to rename some variables, reorder observations, or even create some new variables from your existing ones!\n",
    "\n",
    "As explained in depth in the [R4DS Data Transformation chapter](https://r4ds.had.co.nz/transform.html), there are five key dplyr functions that allow you to solve the vast majority of data manipulation tasks:\n",
    "\n",
    "+ Pick variables by their names (`select()`)\n",
    "+ Pick observations by their values (`filter()`)\n",
    "+ Reorder the rows (`arrange()`)\n",
    "+ Create new variables with functions of existing variables (`mutate()`)\n",
    "+ Collapse many rows down to a single summary (`summarise()`)\n",
    "\n",
    "We can use these in conjunction with two other functions:\n",
    "\n",
    "- The `group_by()` function groups a tibble by rows. Downstream calls to `mutate()` and `summarise()` operate independently on each group.\n",
    "- The `across()` function, when used within the `mutate()` and `summarise()` functions, operate on multiple columns.\n",
    "\n",
    "Because data wrangling involves calling multiple of these functions, we will also see the pipe operator `%>%` for putting these together in a single statement.  \n",
    "\n",
    "## Getting Started\n",
    "\n",
    "Load the required packages for this worksheet:"
   ]
  },
  {
   "cell_type": "code",
   "execution_count": 2,
   "metadata": {
    "deletable": false,
    "editable": false,
    "message": false,
    "name": "load packages",
    "nbgrader": {
     "cell_type": "code",
     "checksum": "7d31bfd50f2f5f9b1cc6c794a240e0ad",
     "grade": false,
     "grade_id": "cell-695291a493cfa66b",
     "locked": true,
     "schema_version": 3,
     "solution": false,
     "task": false
    },
    "warning": false
   },
   "outputs": [],
   "source": [
    "suppressPackageStartupMessages(library(palmerpenguins))\n",
    "suppressPackageStartupMessages(library(tidyverse))\n",
    "suppressPackageStartupMessages(library(gapminder))\n",
    "suppressPackageStartupMessages(library(tsibble))\n",
    "suppressPackageStartupMessages(library(testthat))\n",
    "suppressPackageStartupMessages(library(digest))\n",
    "expect_sorted <- function(object) {\n",
    "  act <- quasi_label(rlang::enquo(object), arg = \"object\")\n",
    "  expect(\n",
    "    !is.unsorted(act$val),\n",
    "    sprintf(\"%s not sorted\", act$lab)\n",
    "  )\n",
    "  invisible(act$val)\n",
    "}"
   ]
  },
  {
   "cell_type": "markdown",
   "metadata": {
    "deletable": false,
    "editable": false,
    "nbgrader": {
     "cell_type": "markdown",
     "checksum": "c3126536aa00165d81c6e45b6101d645",
     "grade": false,
     "grade_id": "cell-fc028aa4c2f43fe9",
     "locked": true,
     "schema_version": 3,
     "solution": false,
     "task": false
    }
   },
   "source": [
    "The following code chunk has been unlocked, to give you the flexibility to start this document with some of your own code. Remember, it's bad manners to keep a call to `install.packages()` in your source code, so don't forget to delete these lines if you ever need to run them."
   ]
  },
  {
   "cell_type": "code",
   "execution_count": null,
   "metadata": {},
   "outputs": [],
   "source": [
    "# An unlocked code chunk."
   ]
  },
  {
   "cell_type": "markdown",
   "metadata": {
    "deletable": false,
    "editable": false,
    "nbgrader": {
     "cell_type": "markdown",
     "checksum": "0fcd04e25f2f1374a91dfd204d1a123c",
     "grade": false,
     "grade_id": "cell-155784dc582502bf",
     "locked": true,
     "schema_version": 3,
     "solution": false,
     "task": false
    }
   },
   "source": [
    "# Part 1: The Five Verbs\n",
    "\n",
    "## Exploring your data\n",
    "\n",
    "What's the first thing that you should do when you're starting a project with a new dataset? Having a coffee is a reasonable answer, but before that, you should **look at the data**. This may sound obvious, but a common mistake is to dive into the analysis too early before being familiar with the data - only to have to go back to the start when something goes wrong and you can't quite figure out why. Some of the questions you may want to ask are:\n",
    "\n",
    "+ What is the format of the data?\n",
    "+ What are the dimensions?\n",
    "+ Are there missing data?\n",
    "\n",
    "You will learn how to answer these questions and more using dplyr."
   ]
  },
  {
   "cell_type": "markdown",
   "metadata": {
    "deletable": false,
    "editable": false,
    "nbgrader": {
     "cell_type": "markdown",
     "checksum": "8a0ff16a553a1e8a4986124cc45ff220",
     "grade": false,
     "grade_id": "cell-84babc43995821a2",
     "locked": true,
     "schema_version": 3,
     "solution": false,
     "task": false
    }
   },
   "source": [
    "## Penguins Data\n",
    "\n",
    "[Palmer penguins](https://github.com/hadley/palmerpenguins) is an R data package created by Allison Horst. Data were collected and made available by Dr. Kristen Gorman and the Palmer Station, Antarctica LTER, a member of the Long Term Ecological Research Network. The dataset that we will be using is stored in a variable called \"penguins\". It is a subset of the \"penguins_raw\" dataset, also included in this R package. Let's have a look at it."
   ]
  },
  {
   "cell_type": "code",
   "execution_count": 3,
   "metadata": {
    "deletable": false,
    "editable": false,
    "nbgrader": {
     "cell_type": "code",
     "checksum": "ca5ffa376958ccea3c3402f656ea24ff",
     "grade": false,
     "grade_id": "cell-83ef890605e2e7b3",
     "locked": true,
     "schema_version": 3,
     "solution": false,
     "task": false
    }
   },
   "outputs": [
    {
     "data": {
      "text/html": [
       "<table class=\"dataframe\">\n",
       "<caption>A tibble: 6 × 8</caption>\n",
       "<thead>\n",
       "\t<tr><th scope=col>species</th><th scope=col>island</th><th scope=col>bill_length_mm</th><th scope=col>bill_depth_mm</th><th scope=col>flipper_length_mm</th><th scope=col>body_mass_g</th><th scope=col>sex</th><th scope=col>year</th></tr>\n",
       "\t<tr><th scope=col>&lt;fct&gt;</th><th scope=col>&lt;fct&gt;</th><th scope=col>&lt;dbl&gt;</th><th scope=col>&lt;dbl&gt;</th><th scope=col>&lt;int&gt;</th><th scope=col>&lt;int&gt;</th><th scope=col>&lt;fct&gt;</th><th scope=col>&lt;int&gt;</th></tr>\n",
       "</thead>\n",
       "<tbody>\n",
       "\t<tr><td>Adelie</td><td>Torgersen</td><td>39.1</td><td>18.7</td><td>181</td><td>3750</td><td>male  </td><td>2007</td></tr>\n",
       "\t<tr><td>Adelie</td><td>Torgersen</td><td>39.5</td><td>17.4</td><td>186</td><td>3800</td><td>female</td><td>2007</td></tr>\n",
       "\t<tr><td>Adelie</td><td>Torgersen</td><td>40.3</td><td>18.0</td><td>195</td><td>3250</td><td>female</td><td>2007</td></tr>\n",
       "\t<tr><td>Adelie</td><td>Torgersen</td><td>  NA</td><td>  NA</td><td> NA</td><td>  NA</td><td>NA    </td><td>2007</td></tr>\n",
       "\t<tr><td>Adelie</td><td>Torgersen</td><td>36.7</td><td>19.3</td><td>193</td><td>3450</td><td>female</td><td>2007</td></tr>\n",
       "\t<tr><td>Adelie</td><td>Torgersen</td><td>39.3</td><td>20.6</td><td>190</td><td>3650</td><td>male  </td><td>2007</td></tr>\n",
       "</tbody>\n",
       "</table>\n"
      ],
      "text/latex": [
       "A tibble: 6 × 8\n",
       "\\begin{tabular}{llllllll}\n",
       " species & island & bill\\_length\\_mm & bill\\_depth\\_mm & flipper\\_length\\_mm & body\\_mass\\_g & sex & year\\\\\n",
       " <fct> & <fct> & <dbl> & <dbl> & <int> & <int> & <fct> & <int>\\\\\n",
       "\\hline\n",
       "\t Adelie & Torgersen & 39.1 & 18.7 & 181 & 3750 & male   & 2007\\\\\n",
       "\t Adelie & Torgersen & 39.5 & 17.4 & 186 & 3800 & female & 2007\\\\\n",
       "\t Adelie & Torgersen & 40.3 & 18.0 & 195 & 3250 & female & 2007\\\\\n",
       "\t Adelie & Torgersen &   NA &   NA &  NA &   NA & NA     & 2007\\\\\n",
       "\t Adelie & Torgersen & 36.7 & 19.3 & 193 & 3450 & female & 2007\\\\\n",
       "\t Adelie & Torgersen & 39.3 & 20.6 & 190 & 3650 & male   & 2007\\\\\n",
       "\\end{tabular}\n"
      ],
      "text/markdown": [
       "\n",
       "A tibble: 6 × 8\n",
       "\n",
       "| species &lt;fct&gt; | island &lt;fct&gt; | bill_length_mm &lt;dbl&gt; | bill_depth_mm &lt;dbl&gt; | flipper_length_mm &lt;int&gt; | body_mass_g &lt;int&gt; | sex &lt;fct&gt; | year &lt;int&gt; |\n",
       "|---|---|---|---|---|---|---|---|\n",
       "| Adelie | Torgersen | 39.1 | 18.7 | 181 | 3750 | male   | 2007 |\n",
       "| Adelie | Torgersen | 39.5 | 17.4 | 186 | 3800 | female | 2007 |\n",
       "| Adelie | Torgersen | 40.3 | 18.0 | 195 | 3250 | female | 2007 |\n",
       "| Adelie | Torgersen |   NA |   NA |  NA |   NA | NA     | 2007 |\n",
       "| Adelie | Torgersen | 36.7 | 19.3 | 193 | 3450 | female | 2007 |\n",
       "| Adelie | Torgersen | 39.3 | 20.6 | 190 | 3650 | male   | 2007 |\n",
       "\n"
      ],
      "text/plain": [
       "  species island    bill_length_mm bill_depth_mm flipper_length_mm body_mass_g\n",
       "1 Adelie  Torgersen 39.1           18.7          181               3750       \n",
       "2 Adelie  Torgersen 39.5           17.4          186               3800       \n",
       "3 Adelie  Torgersen 40.3           18.0          195               3250       \n",
       "4 Adelie  Torgersen   NA             NA           NA                 NA       \n",
       "5 Adelie  Torgersen 36.7           19.3          193               3450       \n",
       "6 Adelie  Torgersen 39.3           20.6          190               3650       \n",
       "  sex    year\n",
       "1 male   2007\n",
       "2 female 2007\n",
       "3 female 2007\n",
       "4 NA     2007\n",
       "5 female 2007\n",
       "6 male   2007"
      ]
     },
     "metadata": {},
     "output_type": "display_data"
    }
   ],
   "source": [
    "head(penguins)"
   ]
  },
  {
   "cell_type": "markdown",
   "metadata": {
    "deletable": false,
    "editable": false,
    "nbgrader": {
     "cell_type": "markdown",
     "checksum": "1e0f7e3cb8539919a3429511ff151d06",
     "grade": false,
     "grade_id": "cell-c9194fdc50710021",
     "locked": true,
     "schema_version": 3,
     "solution": false,
     "task": false
    }
   },
   "source": [
    "`head()` returns the first 6 rows of a dataframe, instead of printing all the data to screen.\n",
    "\n",
    "## What is the format of the data?\n",
    "\n",
    "Let's begin by checking the class of the **penguins** variable. This will give us a clue about the overall structure of the data."
   ]
  },
  {
   "cell_type": "code",
   "execution_count": 4,
   "metadata": {
    "deletable": false,
    "editable": false,
    "nbgrader": {
     "cell_type": "code",
     "checksum": "8da56affc57412ea090f7d605acbefcb",
     "grade": false,
     "grade_id": "cell-48b2530804a909bf",
     "locked": true,
     "schema_version": 3,
     "solution": false,
     "task": false
    }
   },
   "outputs": [
    {
     "data": {
      "text/html": [
       "<style>\n",
       ".list-inline {list-style: none; margin:0; padding: 0}\n",
       ".list-inline>li {display: inline-block}\n",
       ".list-inline>li:not(:last-child)::after {content: \"\\00b7\"; padding: 0 .5ex}\n",
       "</style>\n",
       "<ol class=list-inline><li>'tbl_df'</li><li>'tbl'</li><li>'data.frame'</li></ol>\n"
      ],
      "text/latex": [
       "\\begin{enumerate*}\n",
       "\\item 'tbl\\_df'\n",
       "\\item 'tbl'\n",
       "\\item 'data.frame'\n",
       "\\end{enumerate*}\n"
      ],
      "text/markdown": [
       "1. 'tbl_df'\n",
       "2. 'tbl'\n",
       "3. 'data.frame'\n",
       "\n",
       "\n"
      ],
      "text/plain": [
       "[1] \"tbl_df\"     \"tbl\"        \"data.frame\""
      ]
     },
     "metadata": {},
     "output_type": "display_data"
    }
   ],
   "source": [
    "class(penguins)"
   ]
  },
  {
   "cell_type": "markdown",
   "metadata": {
    "deletable": false,
    "editable": false,
    "nbgrader": {
     "cell_type": "markdown",
     "checksum": "41d22407fc5c1ecbe52cc0268ee32db2",
     "grade": false,
     "grade_id": "cell-7808fbe04aa729dd",
     "locked": true,
     "schema_version": 3,
     "solution": false,
     "task": false
    }
   },
   "source": [
    "As you can see, the function returns 3 classes: \"tbl_df\", \"tbl\", and \"data.frame\". A dataframe is the default class for data read into R. Tibbles (\"tbl\" and \"tbl_df\") are a modern take on data frames, but slightly tweaked to work better in the tidyverse. For now, you don’t need to worry about the differences; we’ll come back to tibbles later. The dataset that we are working with was originally a data.frame that has been coerced into a tibble, which is why multiple class names are returned by the `class()` function.\n",
    "\n",
    "## What are the dimensions?\n",
    "\n",
    "There are two functions that we can use to see exactly how many rows (observations) and columns (variables) we're dealing with. `dim()` is the base R option, and `glimpse()` is the dplyr flavour, which gives us some more information besides the row and column number. Give both a try!"
   ]
  },
  {
   "cell_type": "code",
   "execution_count": 5,
   "metadata": {
    "deletable": false,
    "editable": false,
    "nbgrader": {
     "cell_type": "code",
     "checksum": "607fd2bb968c9081a0a75eb52cfb15c7",
     "grade": false,
     "grade_id": "cell-2fbdffdd374117c8",
     "locked": true,
     "schema_version": 3,
     "solution": false,
     "task": false
    }
   },
   "outputs": [
    {
     "data": {
      "text/html": [
       "<style>\n",
       ".list-inline {list-style: none; margin:0; padding: 0}\n",
       ".list-inline>li {display: inline-block}\n",
       ".list-inline>li:not(:last-child)::after {content: \"\\00b7\"; padding: 0 .5ex}\n",
       "</style>\n",
       "<ol class=list-inline><li>344</li><li>8</li></ol>\n"
      ],
      "text/latex": [
       "\\begin{enumerate*}\n",
       "\\item 344\n",
       "\\item 8\n",
       "\\end{enumerate*}\n"
      ],
      "text/markdown": [
       "1. 344\n",
       "2. 8\n",
       "\n",
       "\n"
      ],
      "text/plain": [
       "[1] 344   8"
      ]
     },
     "metadata": {},
     "output_type": "display_data"
    },
    {
     "name": "stdout",
     "output_type": "stream",
     "text": [
      "Rows: 344\n",
      "Columns: 8\n",
      "$ species           \u001b[3m\u001b[90m<fct>\u001b[39m\u001b[23m Adelie, Adelie, Adelie, Adelie, Adelie, Adelie, Adel~\n",
      "$ island            \u001b[3m\u001b[90m<fct>\u001b[39m\u001b[23m Torgersen, Torgersen, Torgersen, Torgersen, Torgerse~\n",
      "$ bill_length_mm    \u001b[3m\u001b[90m<dbl>\u001b[39m\u001b[23m 39.1, 39.5, 40.3, NA, 36.7, 39.3, 38.9, 39.2, 34.1, ~\n",
      "$ bill_depth_mm     \u001b[3m\u001b[90m<dbl>\u001b[39m\u001b[23m 18.7, 17.4, 18.0, NA, 19.3, 20.6, 17.8, 19.6, 18.1, ~\n",
      "$ flipper_length_mm \u001b[3m\u001b[90m<int>\u001b[39m\u001b[23m 181, 186, 195, NA, 193, 190, 181, 195, 193, 190, 186~\n",
      "$ body_mass_g       \u001b[3m\u001b[90m<int>\u001b[39m\u001b[23m 3750, 3800, 3250, NA, 3450, 3650, 3625, 4675, 3475, ~\n",
      "$ sex               \u001b[3m\u001b[90m<fct>\u001b[39m\u001b[23m male, female, female, NA, female, male, female, male~\n",
      "$ year              \u001b[3m\u001b[90m<int>\u001b[39m\u001b[23m 2007, 2007, 2007, 2007, 2007, 2007, 2007, 2007, 2007~\n"
     ]
    }
   ],
   "source": [
    "dim(penguins)\n",
    "glimpse(penguins)"
   ]
  },
  {
   "cell_type": "markdown",
   "metadata": {
    "deletable": false,
    "editable": false,
    "nbgrader": {
     "cell_type": "markdown",
     "checksum": "ad84ea22132542e08411250fe31c2e70",
     "grade": false,
     "grade_id": "cell-d404e821859fa65a",
     "locked": true,
     "schema_version": 3,
     "solution": false,
     "task": false
    }
   },
   "source": [
    "There are more functions that you can use to further explore the dimensions, such as `nrow()`, `ncol()`, `colnames()` or `rownames()`, but we won't be looking into those.\n",
    "\n",
    "## QUESTION 1.0\n",
    "\n",
    "In the `dim()` function, what is the first number that you see?\n",
    "\n",
    "Multiple choice!\n",
    "\n",
    "A) number of rows   \n",
    "\n",
    "B) number of columns\n",
    "\n",
    "Put your selection (e.g. the letter corresponding to the correct option) into a variable named `answer1.0`."
   ]
  },
  {
   "cell_type": "code",
   "execution_count": 6,
   "metadata": {
    "deletable": false,
    "name": "question-1-0",
    "nbgrader": {
     "cell_type": "code",
     "checksum": "eb1c470514848102c386fb24516869e3",
     "grade": false,
     "grade_id": "cell-89d2909f9da03bb4",
     "locked": false,
     "schema_version": 3,
     "solution": true,
     "task": false
    }
   },
   "outputs": [],
   "source": [
    "answer1.0 <- \"A\""
   ]
  },
  {
   "cell_type": "code",
   "execution_count": 7,
   "metadata": {
    "deletable": false,
    "editable": false,
    "name": "test-1-0",
    "nbgrader": {
     "cell_type": "code",
     "checksum": "6e1468b48e78c9c62a4655700e016205",
     "grade": true,
     "grade_id": "cell-22216823e505e5f1",
     "locked": true,
     "points": 1,
     "schema_version": 3,
     "solution": false,
     "task": false
    }
   },
   "outputs": [
    {
     "name": "stdout",
     "output_type": "stream",
     "text": [
      "\u001b[32mTest passed\u001b[39m \n",
      "success!"
     ]
    }
   ],
   "source": [
    "test_that(\"Question 1.0\", {\n",
    "    expect_equal(digest(as.character(toupper(answer1.0))), \"75f1160e72554f4270c809f041c7a776\")\n",
    "})\n",
    "cat(\"success!\")"
   ]
  },
  {
   "cell_type": "markdown",
   "metadata": {
    "deletable": false,
    "editable": false,
    "nbgrader": {
     "cell_type": "markdown",
     "checksum": "ea01fbe1c9ce3912b4d266f6b91df2c8",
     "grade": false,
     "grade_id": "cell-c08276291e700867",
     "locked": true,
     "schema_version": 3,
     "solution": false,
     "task": false
    }
   },
   "source": [
    "## `select()` \n",
    "\n",
    "*A brief interlude on naming things:* Names are important. Jenny Bryan has some excellent [slides](https://speakerdeck.com/jennybc/how-to-name-files) for naming things in a way that is human readable *and* machine readable. Don't worry too much about it for this worksheet, but do keep it in mind as it helps with *reproducibility*. \n",
    "\n",
    "A quick tip that you can put into practice: you can use *Pascal case* - creating names by concatenating capitalized words, such as PenguinsSubset, or PenguinsTidy. If names get too long, remove vowels! For example, PngnSubset, or PngnTidy instead. Or, you can use snake_case!\n",
    "\n",
    "## QUESTION 1.1\n",
    "\n",
    "In the next few questions, you will practice using the dplyr verb `select()` to pick and modify variables by their names. Modify the penguins data so that it contains the columns `species`, `island`, `sex`, in that order.\n",
    "\n",
    "Assign your answer to a variable named `answer1.1`."
   ]
  },
  {
   "cell_type": "code",
   "execution_count": 8,
   "metadata": {
    "deletable": false,
    "name": "question-1-1",
    "nbgrader": {
     "cell_type": "code",
     "checksum": "238d978b3661e7c392411c949b39369c",
     "grade": false,
     "grade_id": "cell-8a83be57e490be91",
     "locked": false,
     "schema_version": 3,
     "solution": true,
     "task": false
    }
   },
   "outputs": [],
   "source": [
    "answer1.1 <- select(penguins, species, island, sex)\n",
    "\n"
   ]
  },
  {
   "cell_type": "code",
   "execution_count": 9,
   "metadata": {
    "deletable": false,
    "editable": false,
    "lines_to_next_cell": 2,
    "name": "test-1-1",
    "nbgrader": {
     "cell_type": "code",
     "checksum": "24f07378e6e3ff58b049d1a2da563f4c",
     "grade": true,
     "grade_id": "cell-d77a573dc4a26343",
     "locked": true,
     "points": 1,
     "schema_version": 3,
     "solution": false,
     "task": false
    }
   },
   "outputs": [
    {
     "name": "stdout",
     "output_type": "stream",
     "text": [
      "-- \u001b[1m\u001b[33mFailure\u001b[39m (<text>:2:5): Question 1.1\u001b[22m ------------------------------------------\n",
      "digest(as_tibble(answer1.1)) not equal to \"0df5cac5070ec518519a6f2781f4e01f\".\n",
      "1/1 mismatches\n",
      "x[1]: \"63491aa90dcb507c85810ba253a6a465\"\n",
      "y[1]: \"0df5cac5070ec518519a6f2781f4e01f\"\n",
      "\n",
      "success!"
     ]
    }
   ],
   "source": [
    "test_that(\"Question 1.1\", {\n",
    "    expect_equal(digest(as_tibble(answer1.1)), \"0df5cac5070ec518519a6f2781f4e01f\")\n",
    "})\n",
    "cat(\"success!\")"
   ]
  },
  {
   "cell_type": "markdown",
   "metadata": {
    "deletable": false,
    "editable": false,
    "nbgrader": {
     "cell_type": "markdown",
     "checksum": "b9fcdab0762f8b4cb243006444aa7699",
     "grade": false,
     "grade_id": "cell-4beb2aac482da4c3",
     "locked": true,
     "schema_version": 3,
     "solution": false,
     "task": false
    }
   },
   "source": [
    "## QUESTION 1.2\n",
    "\n",
    "Out of the following options, what would be the best name for the object that you just created above (currently stored in `answer1.1`)? Put your answer in a variable named `answer1.2`.\n",
    "\n",
    "A) _penguin_subset   \n",
    "\n",
    "B) penguins  \n",
    "\n",
    "C) 2penguin   \n",
    "\n",
    "D) PngnSub   "
   ]
  },
  {
   "cell_type": "code",
   "execution_count": 10,
   "metadata": {
    "deletable": false,
    "name": "question-1-1a",
    "nbgrader": {
     "cell_type": "code",
     "checksum": "989540d0bbef2e1618eb77c45115e95c",
     "grade": false,
     "grade_id": "cell-dcb6cda112457d98",
     "locked": false,
     "schema_version": 3,
     "solution": true,
     "task": false
    }
   },
   "outputs": [],
   "source": [
    "answer1.2 <- \"D\""
   ]
  },
  {
   "cell_type": "code",
   "execution_count": 11,
   "metadata": {
    "deletable": false,
    "editable": false,
    "name": "test-1-1a",
    "nbgrader": {
     "cell_type": "code",
     "checksum": "6f30f3dede6d9afa505acccc6c505c54",
     "grade": true,
     "grade_id": "cell-92538bdd1bd40300",
     "locked": true,
     "points": 1,
     "schema_version": 3,
     "solution": false,
     "task": false
    }
   },
   "outputs": [
    {
     "name": "stdout",
     "output_type": "stream",
     "text": [
      "\u001b[32mTest passed\u001b[39m \n",
      "success!"
     ]
    }
   ],
   "source": [
    "test_that(\"Question 1.2\", {\n",
    "    expect_equal(digest(as.character(toupper(answer1.2))), \"c1f86f7430df7ddb256980ea6a3b57a4\")\n",
    "})\n",
    "cat(\"success!\")"
   ]
  },
  {
   "cell_type": "markdown",
   "metadata": {
    "deletable": false,
    "editable": false,
    "nbgrader": {
     "cell_type": "markdown",
     "checksum": "ecef2aa0fb7063bce72aa51be5926b74",
     "grade": false,
     "grade_id": "cell-2e3273def66cbb67",
     "locked": true,
     "schema_version": 3,
     "solution": false,
     "task": false
    }
   },
   "source": [
    "## QUESTION 1.3\n",
    "\n",
    "Select all variables, from `bill_length_mm` to `body_mass_g` (in that order). Of course, you could do it this way..."
   ]
  },
  {
   "cell_type": "code",
   "execution_count": 12,
   "metadata": {
    "deletable": false,
    "editable": false,
    "nbgrader": {
     "cell_type": "code",
     "checksum": "92020782b46eca42fa78b0c1963da07e",
     "grade": false,
     "grade_id": "cell-5cb9e1971619fc8b",
     "locked": true,
     "schema_version": 3,
     "solution": false,
     "task": false
    }
   },
   "outputs": [
    {
     "name": "stdout",
     "output_type": "stream",
     "text": [
      "\u001b[90m# A tibble: 344 x 4\u001b[39m\n",
      "  bill_length_mm bill_depth_mm flipper_length_mm body_mass_g\n",
      "           \u001b[3m\u001b[90m<dbl>\u001b[39m\u001b[23m         \u001b[3m\u001b[90m<dbl>\u001b[39m\u001b[23m             \u001b[3m\u001b[90m<int>\u001b[39m\u001b[23m       \u001b[3m\u001b[90m<int>\u001b[39m\u001b[23m\n",
      "\u001b[90m1\u001b[39m           39.1          18.7               181        \u001b[4m3\u001b[24m750\n",
      "\u001b[90m2\u001b[39m           39.5          17.4               186        \u001b[4m3\u001b[24m800\n",
      "\u001b[90m3\u001b[39m           40.3          18                 195        \u001b[4m3\u001b[24m250\n",
      "\u001b[90m4\u001b[39m           \u001b[31mNA\u001b[39m            \u001b[31mNA\u001b[39m                  \u001b[31mNA\u001b[39m          \u001b[31mNA\u001b[39m\n",
      "\u001b[90m5\u001b[39m           36.7          19.3               193        \u001b[4m3\u001b[24m450\n",
      "\u001b[90m# ... with 339 more rows\u001b[39m\n"
     ]
    }
   ],
   "source": [
    "# This will work:\n",
    "select(penguins, bill_length_mm, bill_depth_mm, flipper_length_mm, body_mass_g) %>% \n",
    "   print(n = 5)"
   ]
  },
  {
   "cell_type": "markdown",
   "metadata": {
    "deletable": false,
    "editable": false,
    "nbgrader": {
     "cell_type": "markdown",
     "checksum": "e9425bb04c69d16ca860d3d7208c4ffc",
     "grade": false,
     "grade_id": "cell-f5b45d38c135b356",
     "locked": true,
     "schema_version": 3,
     "solution": false,
     "task": false
    }
   },
   "source": [
    "But there is a better way to do it! Which do you think would work?\n",
    "\n",
    "A) `select(penguins, body_mass_g:bill_length_mm)`   \n",
    "\n",
    "B) `select(penguins, c(body_mass_g::bill_length_mm))`   \n",
    "\n",
    "C) `select(penguins, bill_length_mm:body_mass_g)`   \n",
    "\n",
    "D) `select(penguins, bill_length_mm::body_mass_g)`\n",
    "\n",
    "Assign your answer to a variable called `answer1.3`"
   ]
  },
  {
   "cell_type": "code",
   "execution_count": 13,
   "metadata": {
    "deletable": false,
    "name": "question-1-2",
    "nbgrader": {
     "cell_type": "code",
     "checksum": "0df62b99abb510420f9d23e9c1a7662a",
     "grade": false,
     "grade_id": "cell-8b4a2b3bcfaa1afc",
     "locked": false,
     "schema_version": 3,
     "solution": true,
     "task": false
    }
   },
   "outputs": [],
   "source": [
    "answer1.3 <- \"C\""
   ]
  },
  {
   "cell_type": "code",
   "execution_count": 14,
   "metadata": {
    "deletable": false,
    "editable": false,
    "name": "test-1-2",
    "nbgrader": {
     "cell_type": "code",
     "checksum": "a22b7918b07024a9336bdae7ffffabc0",
     "grade": true,
     "grade_id": "cell-c526ad124009a3f7",
     "locked": true,
     "points": 1,
     "schema_version": 3,
     "solution": false,
     "task": false
    }
   },
   "outputs": [
    {
     "name": "stdout",
     "output_type": "stream",
     "text": [
      "\u001b[32mTest passed\u001b[39m \n",
      "success!"
     ]
    }
   ],
   "source": [
    "test_that(\"Question 1.3\", {\n",
    "    expect_equal(digest(as.character(toupper(answer1.3))), \"475bf9280aab63a82af60791302736f6\")\n",
    "})\n",
    "cat(\"success!\")"
   ]
  },
  {
   "cell_type": "markdown",
   "metadata": {
    "deletable": false,
    "editable": false,
    "nbgrader": {
     "cell_type": "markdown",
     "checksum": "644e8123e7138c06fce752433a1ba853",
     "grade": false,
     "grade_id": "cell-b6281ca333158c02",
     "locked": true,
     "schema_version": 3,
     "solution": false,
     "task": false
    }
   },
   "source": [
    "## QUESTION 1.4\n",
    "\n",
    "You're doing a great job. Keep it up! Now, select all variables, except `island`. How would you write this code?\n",
    "\n",
    "A) `select(penguins, -c(\"island\"))`   \n",
    "\n",
    "B) `select(penguins, -island)`   \n",
    "\n",
    "C) `select(penguins, -(\"island\"))`   \n",
    "\n",
    "Put your answer in a variable named `answer1.4`. We encourage you to try executing these!"
   ]
  },
  {
   "cell_type": "code",
   "execution_count": 15,
   "metadata": {
    "deletable": false,
    "name": "question-1-3",
    "nbgrader": {
     "cell_type": "code",
     "checksum": "ba1a9117a4ea5c1d55d8dc591493c1b3",
     "grade": false,
     "grade_id": "cell-f245f071ce744359",
     "locked": false,
     "schema_version": 3,
     "solution": true,
     "task": false
    }
   },
   "outputs": [],
   "source": [
    "answer1.4 <- \"B\""
   ]
  },
  {
   "cell_type": "code",
   "execution_count": 16,
   "metadata": {
    "deletable": false,
    "editable": false,
    "name": "test-1-3",
    "nbgrader": {
     "cell_type": "code",
     "checksum": "12961731198c338e61539c2e698494eb",
     "grade": true,
     "grade_id": "cell-a51b6f36744882c1",
     "locked": true,
     "points": 1,
     "schema_version": 3,
     "solution": false,
     "task": false
    }
   },
   "outputs": [
    {
     "name": "stdout",
     "output_type": "stream",
     "text": [
      "\u001b[32mTest passed\u001b[39m \n",
      "success!"
     ]
    }
   ],
   "source": [
    "test_that(\"Question 1.4\", {\n",
    "    expect_equal(digest(as.character(toupper(answer1.4))), \"3a5505c06543876fe45598b5e5e5195d\")\n",
    "})\n",
    "cat(\"success!\")"
   ]
  },
  {
   "cell_type": "markdown",
   "metadata": {
    "deletable": false,
    "editable": false,
    "nbgrader": {
     "cell_type": "markdown",
     "checksum": "daabd1d41c849d3423a444127efe5d14",
     "grade": false,
     "grade_id": "cell-71e9d586a9716e39",
     "locked": true,
     "schema_version": 3,
     "solution": false,
     "task": false
    }
   },
   "source": [
    "## QUESTION 1.5\n",
    "\n",
    "Output the `penguins` tibble so that `year` comes first. Hint: use the tidyselect `everything()` function. Store the result in a variable named `answer1.5`. "
   ]
  },
  {
   "cell_type": "code",
   "execution_count": 17,
   "metadata": {
    "deletable": false,
    "name": "question-1-4",
    "nbgrader": {
     "cell_type": "code",
     "checksum": "6aa4e71b68cdc93b58e9d803b46abea1",
     "grade": false,
     "grade_id": "cell-ab4e3c79b2c8ab2b",
     "locked": false,
     "schema_version": 3,
     "solution": true,
     "task": false
    }
   },
   "outputs": [
    {
     "data": {
      "text/html": [
       "<table class=\"dataframe\">\n",
       "<caption>A tibble: 6 × 8</caption>\n",
       "<thead>\n",
       "\t<tr><th scope=col>year</th><th scope=col>species</th><th scope=col>island</th><th scope=col>bill_length_mm</th><th scope=col>bill_depth_mm</th><th scope=col>flipper_length_mm</th><th scope=col>body_mass_g</th><th scope=col>sex</th></tr>\n",
       "\t<tr><th scope=col>&lt;int&gt;</th><th scope=col>&lt;fct&gt;</th><th scope=col>&lt;fct&gt;</th><th scope=col>&lt;dbl&gt;</th><th scope=col>&lt;dbl&gt;</th><th scope=col>&lt;int&gt;</th><th scope=col>&lt;int&gt;</th><th scope=col>&lt;fct&gt;</th></tr>\n",
       "</thead>\n",
       "<tbody>\n",
       "\t<tr><td>2007</td><td>Adelie</td><td>Torgersen</td><td>39.1</td><td>18.7</td><td>181</td><td>3750</td><td>male  </td></tr>\n",
       "\t<tr><td>2007</td><td>Adelie</td><td>Torgersen</td><td>39.5</td><td>17.4</td><td>186</td><td>3800</td><td>female</td></tr>\n",
       "\t<tr><td>2007</td><td>Adelie</td><td>Torgersen</td><td>40.3</td><td>18.0</td><td>195</td><td>3250</td><td>female</td></tr>\n",
       "\t<tr><td>2007</td><td>Adelie</td><td>Torgersen</td><td>  NA</td><td>  NA</td><td> NA</td><td>  NA</td><td>NA    </td></tr>\n",
       "\t<tr><td>2007</td><td>Adelie</td><td>Torgersen</td><td>36.7</td><td>19.3</td><td>193</td><td>3450</td><td>female</td></tr>\n",
       "\t<tr><td>2007</td><td>Adelie</td><td>Torgersen</td><td>39.3</td><td>20.6</td><td>190</td><td>3650</td><td>male  </td></tr>\n",
       "</tbody>\n",
       "</table>\n"
      ],
      "text/latex": [
       "A tibble: 6 × 8\n",
       "\\begin{tabular}{llllllll}\n",
       " year & species & island & bill\\_length\\_mm & bill\\_depth\\_mm & flipper\\_length\\_mm & body\\_mass\\_g & sex\\\\\n",
       " <int> & <fct> & <fct> & <dbl> & <dbl> & <int> & <int> & <fct>\\\\\n",
       "\\hline\n",
       "\t 2007 & Adelie & Torgersen & 39.1 & 18.7 & 181 & 3750 & male  \\\\\n",
       "\t 2007 & Adelie & Torgersen & 39.5 & 17.4 & 186 & 3800 & female\\\\\n",
       "\t 2007 & Adelie & Torgersen & 40.3 & 18.0 & 195 & 3250 & female\\\\\n",
       "\t 2007 & Adelie & Torgersen &   NA &   NA &  NA &   NA & NA    \\\\\n",
       "\t 2007 & Adelie & Torgersen & 36.7 & 19.3 & 193 & 3450 & female\\\\\n",
       "\t 2007 & Adelie & Torgersen & 39.3 & 20.6 & 190 & 3650 & male  \\\\\n",
       "\\end{tabular}\n"
      ],
      "text/markdown": [
       "\n",
       "A tibble: 6 × 8\n",
       "\n",
       "| year &lt;int&gt; | species &lt;fct&gt; | island &lt;fct&gt; | bill_length_mm &lt;dbl&gt; | bill_depth_mm &lt;dbl&gt; | flipper_length_mm &lt;int&gt; | body_mass_g &lt;int&gt; | sex &lt;fct&gt; |\n",
       "|---|---|---|---|---|---|---|---|\n",
       "| 2007 | Adelie | Torgersen | 39.1 | 18.7 | 181 | 3750 | male   |\n",
       "| 2007 | Adelie | Torgersen | 39.5 | 17.4 | 186 | 3800 | female |\n",
       "| 2007 | Adelie | Torgersen | 40.3 | 18.0 | 195 | 3250 | female |\n",
       "| 2007 | Adelie | Torgersen |   NA |   NA |  NA |   NA | NA     |\n",
       "| 2007 | Adelie | Torgersen | 36.7 | 19.3 | 193 | 3450 | female |\n",
       "| 2007 | Adelie | Torgersen | 39.3 | 20.6 | 190 | 3650 | male   |\n",
       "\n"
      ],
      "text/plain": [
       "  year species island    bill_length_mm bill_depth_mm flipper_length_mm\n",
       "1 2007 Adelie  Torgersen 39.1           18.7          181              \n",
       "2 2007 Adelie  Torgersen 39.5           17.4          186              \n",
       "3 2007 Adelie  Torgersen 40.3           18.0          195              \n",
       "4 2007 Adelie  Torgersen   NA             NA           NA              \n",
       "5 2007 Adelie  Torgersen 36.7           19.3          193              \n",
       "6 2007 Adelie  Torgersen 39.3           20.6          190              \n",
       "  body_mass_g sex   \n",
       "1 3750        male  \n",
       "2 3800        female\n",
       "3 3250        female\n",
       "4   NA        NA    \n",
       "5 3450        female\n",
       "6 3650        male  "
      ]
     },
     "metadata": {},
     "output_type": "display_data"
    }
   ],
   "source": [
    "answer1.5 <- select(penguins, year, everything())\n",
    "head(answer1.5)"
   ]
  },
  {
   "cell_type": "code",
   "execution_count": 18,
   "metadata": {
    "deletable": false,
    "editable": false,
    "name": "test-1-4",
    "nbgrader": {
     "cell_type": "code",
     "checksum": "af3caf6ac1db07a54ea81f98377e5971",
     "grade": true,
     "grade_id": "cell-0191ea7047f44d3c",
     "locked": true,
     "points": 1,
     "schema_version": 3,
     "solution": false,
     "task": false
    }
   },
   "outputs": [
    {
     "name": "stdout",
     "output_type": "stream",
     "text": [
      "\u001b[32mTest passed\u001b[39m \n",
      "success!"
     ]
    }
   ],
   "source": [
    "test_that(\"Question 1.5\", {\n",
    "    expect_equal(digest(dim(answer1.5)), \"d095e682a86f7f16404b7f8dd5f3d676\")\n",
    "    expect_equal(digest(answer1.5), \"a07a1cdcb64726866df3d525811a9bf6\")\n",
    "})\n",
    "cat(\"success!\")"
   ]
  },
  {
   "cell_type": "markdown",
   "metadata": {
    "deletable": false,
    "editable": false,
    "nbgrader": {
     "cell_type": "markdown",
     "checksum": "b394247048979d125dfb1989caa5471a",
     "grade": false,
     "grade_id": "cell-5ca019b951c06c27",
     "locked": true,
     "schema_version": 3,
     "solution": false,
     "task": false
    }
   },
   "source": [
    "## QUESTION 1.6\n",
    "\n",
    "Rename `flipper_length_mm` to `length_flipper_mm`. Store the result in a variable named `answer1.6`"
   ]
  },
  {
   "cell_type": "code",
   "execution_count": 19,
   "metadata": {
    "deletable": false,
    "name": "question-1-5",
    "nbgrader": {
     "cell_type": "code",
     "checksum": "698181e0cff0dfb7acd88c762540a85a",
     "grade": false,
     "grade_id": "cell-92e4880ebb7d27e5",
     "locked": false,
     "schema_version": 3,
     "solution": true,
     "task": false
    }
   },
   "outputs": [
    {
     "data": {
      "text/html": [
       "<table class=\"dataframe\">\n",
       "<caption>A tibble: 6 × 8</caption>\n",
       "<thead>\n",
       "\t<tr><th scope=col>species</th><th scope=col>island</th><th scope=col>bill_length_mm</th><th scope=col>bill_depth_mm</th><th scope=col>length_flipper_mm</th><th scope=col>body_mass_g</th><th scope=col>sex</th><th scope=col>year</th></tr>\n",
       "\t<tr><th scope=col>&lt;fct&gt;</th><th scope=col>&lt;fct&gt;</th><th scope=col>&lt;dbl&gt;</th><th scope=col>&lt;dbl&gt;</th><th scope=col>&lt;int&gt;</th><th scope=col>&lt;int&gt;</th><th scope=col>&lt;fct&gt;</th><th scope=col>&lt;int&gt;</th></tr>\n",
       "</thead>\n",
       "<tbody>\n",
       "\t<tr><td>Adelie</td><td>Torgersen</td><td>39.1</td><td>18.7</td><td>181</td><td>3750</td><td>male  </td><td>2007</td></tr>\n",
       "\t<tr><td>Adelie</td><td>Torgersen</td><td>39.5</td><td>17.4</td><td>186</td><td>3800</td><td>female</td><td>2007</td></tr>\n",
       "\t<tr><td>Adelie</td><td>Torgersen</td><td>40.3</td><td>18.0</td><td>195</td><td>3250</td><td>female</td><td>2007</td></tr>\n",
       "\t<tr><td>Adelie</td><td>Torgersen</td><td>  NA</td><td>  NA</td><td> NA</td><td>  NA</td><td>NA    </td><td>2007</td></tr>\n",
       "\t<tr><td>Adelie</td><td>Torgersen</td><td>36.7</td><td>19.3</td><td>193</td><td>3450</td><td>female</td><td>2007</td></tr>\n",
       "\t<tr><td>Adelie</td><td>Torgersen</td><td>39.3</td><td>20.6</td><td>190</td><td>3650</td><td>male  </td><td>2007</td></tr>\n",
       "</tbody>\n",
       "</table>\n"
      ],
      "text/latex": [
       "A tibble: 6 × 8\n",
       "\\begin{tabular}{llllllll}\n",
       " species & island & bill\\_length\\_mm & bill\\_depth\\_mm & length\\_flipper\\_mm & body\\_mass\\_g & sex & year\\\\\n",
       " <fct> & <fct> & <dbl> & <dbl> & <int> & <int> & <fct> & <int>\\\\\n",
       "\\hline\n",
       "\t Adelie & Torgersen & 39.1 & 18.7 & 181 & 3750 & male   & 2007\\\\\n",
       "\t Adelie & Torgersen & 39.5 & 17.4 & 186 & 3800 & female & 2007\\\\\n",
       "\t Adelie & Torgersen & 40.3 & 18.0 & 195 & 3250 & female & 2007\\\\\n",
       "\t Adelie & Torgersen &   NA &   NA &  NA &   NA & NA     & 2007\\\\\n",
       "\t Adelie & Torgersen & 36.7 & 19.3 & 193 & 3450 & female & 2007\\\\\n",
       "\t Adelie & Torgersen & 39.3 & 20.6 & 190 & 3650 & male   & 2007\\\\\n",
       "\\end{tabular}\n"
      ],
      "text/markdown": [
       "\n",
       "A tibble: 6 × 8\n",
       "\n",
       "| species &lt;fct&gt; | island &lt;fct&gt; | bill_length_mm &lt;dbl&gt; | bill_depth_mm &lt;dbl&gt; | length_flipper_mm &lt;int&gt; | body_mass_g &lt;int&gt; | sex &lt;fct&gt; | year &lt;int&gt; |\n",
       "|---|---|---|---|---|---|---|---|\n",
       "| Adelie | Torgersen | 39.1 | 18.7 | 181 | 3750 | male   | 2007 |\n",
       "| Adelie | Torgersen | 39.5 | 17.4 | 186 | 3800 | female | 2007 |\n",
       "| Adelie | Torgersen | 40.3 | 18.0 | 195 | 3250 | female | 2007 |\n",
       "| Adelie | Torgersen |   NA |   NA |  NA |   NA | NA     | 2007 |\n",
       "| Adelie | Torgersen | 36.7 | 19.3 | 193 | 3450 | female | 2007 |\n",
       "| Adelie | Torgersen | 39.3 | 20.6 | 190 | 3650 | male   | 2007 |\n",
       "\n"
      ],
      "text/plain": [
       "  species island    bill_length_mm bill_depth_mm length_flipper_mm body_mass_g\n",
       "1 Adelie  Torgersen 39.1           18.7          181               3750       \n",
       "2 Adelie  Torgersen 39.5           17.4          186               3800       \n",
       "3 Adelie  Torgersen 40.3           18.0          195               3250       \n",
       "4 Adelie  Torgersen   NA             NA           NA                 NA       \n",
       "5 Adelie  Torgersen 36.7           19.3          193               3450       \n",
       "6 Adelie  Torgersen 39.3           20.6          190               3650       \n",
       "  sex    year\n",
       "1 male   2007\n",
       "2 female 2007\n",
       "3 female 2007\n",
       "4 NA     2007\n",
       "5 female 2007\n",
       "6 male   2007"
      ]
     },
     "metadata": {},
     "output_type": "display_data"
    }
   ],
   "source": [
    "answer1.6 <- rename(penguins, length_flipper_mm=flipper_length_mm)\n",
    "\n",
    "head(answer1.6)\n",
    "\n"
   ]
  },
  {
   "cell_type": "code",
   "execution_count": 20,
   "metadata": {
    "deletable": false,
    "editable": false,
    "name": "test-1-5",
    "nbgrader": {
     "cell_type": "code",
     "checksum": "622b665afb998f7e2d4b62e5d0a90fcc",
     "grade": true,
     "grade_id": "cell-7e940a5bc6938d87",
     "locked": true,
     "points": 1,
     "schema_version": 3,
     "solution": false,
     "task": false
    }
   },
   "outputs": [
    {
     "name": "stdout",
     "output_type": "stream",
     "text": [
      "\u001b[32mTest passed\u001b[39m \n",
      "success!"
     ]
    }
   ],
   "source": [
    "test_that(\"Question 1.6\", {\n",
    "  expect_equal(digest(dim(answer1.6)), 'd095e682a86f7f16404b7f8dd5f3d676')\n",
    "  expect_equal(digest(names(answer1.6)), 'ef6a2aaa40de41c0b11ad2f6888d5ce6')\n",
    "})\n",
    "cat(\"success!\")"
   ]
  },
  {
   "cell_type": "markdown",
   "metadata": {
    "deletable": false,
    "editable": false,
    "nbgrader": {
     "cell_type": "markdown",
     "checksum": "af5b362292825d0edff8e0b70f517376",
     "grade": false,
     "grade_id": "cell-63fcfb647325d7f5",
     "locked": true,
     "schema_version": 3,
     "solution": false,
     "task": false
    }
   },
   "source": [
    "## `filter()` \n",
    "\n",
    "So far, we've practiced picking variables by their name with `select()`. But how about picking observations (rows)? This is where `filter()` comes in.\n",
    "\n",
    "## QUESTION 1.7\n",
    "\n",
    "Pick penguins with body mass greater than 3600 g. Store the resulting tibble in a variable named `answer1.7`"
   ]
  },
  {
   "cell_type": "code",
   "execution_count": 21,
   "metadata": {
    "deletable": false,
    "name": "question-1-6",
    "nbgrader": {
     "cell_type": "code",
     "checksum": "8021df7e6769cd9ef4e9e0f249e2fa14",
     "grade": false,
     "grade_id": "cell-426cf55e35870df1",
     "locked": false,
     "schema_version": 3,
     "solution": true,
     "task": false
    }
   },
   "outputs": [
    {
     "data": {
      "text/html": [
       "<table class=\"dataframe\">\n",
       "<caption>A tibble: 6 × 8</caption>\n",
       "<thead>\n",
       "\t<tr><th scope=col>species</th><th scope=col>island</th><th scope=col>bill_length_mm</th><th scope=col>bill_depth_mm</th><th scope=col>flipper_length_mm</th><th scope=col>body_mass_g</th><th scope=col>sex</th><th scope=col>year</th></tr>\n",
       "\t<tr><th scope=col>&lt;fct&gt;</th><th scope=col>&lt;fct&gt;</th><th scope=col>&lt;dbl&gt;</th><th scope=col>&lt;dbl&gt;</th><th scope=col>&lt;int&gt;</th><th scope=col>&lt;int&gt;</th><th scope=col>&lt;fct&gt;</th><th scope=col>&lt;int&gt;</th></tr>\n",
       "</thead>\n",
       "<tbody>\n",
       "\t<tr><td>Adelie</td><td>Torgersen</td><td>39.1</td><td>18.7</td><td>181</td><td>3750</td><td>male  </td><td>2007</td></tr>\n",
       "\t<tr><td>Adelie</td><td>Torgersen</td><td>39.5</td><td>17.4</td><td>186</td><td>3800</td><td>female</td><td>2007</td></tr>\n",
       "\t<tr><td>Adelie</td><td>Torgersen</td><td>39.3</td><td>20.6</td><td>190</td><td>3650</td><td>male  </td><td>2007</td></tr>\n",
       "\t<tr><td>Adelie</td><td>Torgersen</td><td>38.9</td><td>17.8</td><td>181</td><td>3625</td><td>female</td><td>2007</td></tr>\n",
       "\t<tr><td>Adelie</td><td>Torgersen</td><td>39.2</td><td>19.6</td><td>195</td><td>4675</td><td>male  </td><td>2007</td></tr>\n",
       "\t<tr><td>Adelie</td><td>Torgersen</td><td>42.0</td><td>20.2</td><td>190</td><td>4250</td><td>NA    </td><td>2007</td></tr>\n",
       "</tbody>\n",
       "</table>\n"
      ],
      "text/latex": [
       "A tibble: 6 × 8\n",
       "\\begin{tabular}{llllllll}\n",
       " species & island & bill\\_length\\_mm & bill\\_depth\\_mm & flipper\\_length\\_mm & body\\_mass\\_g & sex & year\\\\\n",
       " <fct> & <fct> & <dbl> & <dbl> & <int> & <int> & <fct> & <int>\\\\\n",
       "\\hline\n",
       "\t Adelie & Torgersen & 39.1 & 18.7 & 181 & 3750 & male   & 2007\\\\\n",
       "\t Adelie & Torgersen & 39.5 & 17.4 & 186 & 3800 & female & 2007\\\\\n",
       "\t Adelie & Torgersen & 39.3 & 20.6 & 190 & 3650 & male   & 2007\\\\\n",
       "\t Adelie & Torgersen & 38.9 & 17.8 & 181 & 3625 & female & 2007\\\\\n",
       "\t Adelie & Torgersen & 39.2 & 19.6 & 195 & 4675 & male   & 2007\\\\\n",
       "\t Adelie & Torgersen & 42.0 & 20.2 & 190 & 4250 & NA     & 2007\\\\\n",
       "\\end{tabular}\n"
      ],
      "text/markdown": [
       "\n",
       "A tibble: 6 × 8\n",
       "\n",
       "| species &lt;fct&gt; | island &lt;fct&gt; | bill_length_mm &lt;dbl&gt; | bill_depth_mm &lt;dbl&gt; | flipper_length_mm &lt;int&gt; | body_mass_g &lt;int&gt; | sex &lt;fct&gt; | year &lt;int&gt; |\n",
       "|---|---|---|---|---|---|---|---|\n",
       "| Adelie | Torgersen | 39.1 | 18.7 | 181 | 3750 | male   | 2007 |\n",
       "| Adelie | Torgersen | 39.5 | 17.4 | 186 | 3800 | female | 2007 |\n",
       "| Adelie | Torgersen | 39.3 | 20.6 | 190 | 3650 | male   | 2007 |\n",
       "| Adelie | Torgersen | 38.9 | 17.8 | 181 | 3625 | female | 2007 |\n",
       "| Adelie | Torgersen | 39.2 | 19.6 | 195 | 4675 | male   | 2007 |\n",
       "| Adelie | Torgersen | 42.0 | 20.2 | 190 | 4250 | NA     | 2007 |\n",
       "\n"
      ],
      "text/plain": [
       "  species island    bill_length_mm bill_depth_mm flipper_length_mm body_mass_g\n",
       "1 Adelie  Torgersen 39.1           18.7          181               3750       \n",
       "2 Adelie  Torgersen 39.5           17.4          186               3800       \n",
       "3 Adelie  Torgersen 39.3           20.6          190               3650       \n",
       "4 Adelie  Torgersen 38.9           17.8          181               3625       \n",
       "5 Adelie  Torgersen 39.2           19.6          195               4675       \n",
       "6 Adelie  Torgersen 42.0           20.2          190               4250       \n",
       "  sex    year\n",
       "1 male   2007\n",
       "2 female 2007\n",
       "3 male   2007\n",
       "4 female 2007\n",
       "5 male   2007\n",
       "6 NA     2007"
      ]
     },
     "metadata": {},
     "output_type": "display_data"
    }
   ],
   "source": [
    "answer1.7 <- filter(penguins, body_mass_g > 3600)\n",
    "\n",
    "head(answer1.7)"
   ]
  },
  {
   "cell_type": "code",
   "execution_count": 22,
   "metadata": {
    "deletable": false,
    "editable": false,
    "name": "test-1-6",
    "nbgrader": {
     "cell_type": "code",
     "checksum": "4a2ac7786bb825a673a1579b46754e01",
     "grade": true,
     "grade_id": "cell-31eb0dad4d4e75a3",
     "locked": true,
     "points": 1,
     "schema_version": 3,
     "solution": false,
     "task": false
    }
   },
   "outputs": [
    {
     "name": "stdout",
     "output_type": "stream",
     "text": [
      "\u001b[32mTest passed\u001b[39m \n",
      "success!"
     ]
    }
   ],
   "source": [
    "test_that(\"Question 1.7\", {\n",
    "  expect_equal(digest(dim(answer1.7)), '0f80c9cad929bf5de5ae34e0d50cb60d')\n",
    "  expect_equal(sum(pull(answer1.7, body_mass_g) <= 3600), 0)\n",
    "})\n",
    "cat(\"success!\")"
   ]
  },
  {
   "cell_type": "markdown",
   "metadata": {
    "deletable": false,
    "editable": false,
    "nbgrader": {
     "cell_type": "markdown",
     "checksum": "b12d0b9bbe80d099176b37ccbe7ad905",
     "grade": false,
     "grade_id": "cell-fd6a0770b1db542e",
     "locked": true,
     "schema_version": 3,
     "solution": false,
     "task": false
    }
   },
   "source": [
    "## Storing the subsetted penguins data\n",
    "\n",
    "In question 1.7 above, you've created a subset of the `penguins` dataset by filtering for those penguins that have a body mass greater than 3600 g. Let's do a quick check to see how many penguins meet that threshold by comparing the dimensions of the `penguins` dataset and your subset, `answer1.7`. There are two different ways to do this. "
   ]
  },
  {
   "cell_type": "code",
   "execution_count": 23,
   "metadata": {
    "deletable": false,
    "editable": false,
    "nbgrader": {
     "cell_type": "code",
     "checksum": "362d75da6d8e88080ac279592ca0e98d",
     "grade": false,
     "grade_id": "cell-88d29ce015d55c3a",
     "locked": true,
     "schema_version": 3,
     "solution": false,
     "task": false
    }
   },
   "outputs": [
    {
     "data": {
      "text/html": [
       "<style>\n",
       ".list-inline {list-style: none; margin:0; padding: 0}\n",
       ".list-inline>li {display: inline-block}\n",
       ".list-inline>li:not(:last-child)::after {content: \"\\00b7\"; padding: 0 .5ex}\n",
       "</style>\n",
       "<ol class=list-inline><li>344</li><li>8</li></ol>\n"
      ],
      "text/latex": [
       "\\begin{enumerate*}\n",
       "\\item 344\n",
       "\\item 8\n",
       "\\end{enumerate*}\n"
      ],
      "text/markdown": [
       "1. 344\n",
       "2. 8\n",
       "\n",
       "\n"
      ],
      "text/plain": [
       "[1] 344   8"
      ]
     },
     "metadata": {},
     "output_type": "display_data"
    },
    {
     "data": {
      "text/html": [
       "<style>\n",
       ".list-inline {list-style: none; margin:0; padding: 0}\n",
       ".list-inline>li {display: inline-block}\n",
       ".list-inline>li:not(:last-child)::after {content: \"\\00b7\"; padding: 0 .5ex}\n",
       "</style>\n",
       "<ol class=list-inline><li>245</li><li>8</li></ol>\n"
      ],
      "text/latex": [
       "\\begin{enumerate*}\n",
       "\\item 245\n",
       "\\item 8\n",
       "\\end{enumerate*}\n"
      ],
      "text/markdown": [
       "1. 245\n",
       "2. 8\n",
       "\n",
       "\n"
      ],
      "text/plain": [
       "[1] 245   8"
      ]
     },
     "metadata": {},
     "output_type": "display_data"
    }
   ],
   "source": [
    "dim(penguins)\n",
    "dim(answer1.7)"
   ]
  },
  {
   "cell_type": "markdown",
   "metadata": {
    "deletable": false,
    "editable": false,
    "nbgrader": {
     "cell_type": "markdown",
     "checksum": "9e3025fc5d35fce3c6ff78950638731f",
     "grade": false,
     "grade_id": "cell-9ca14d97a1c89aad",
     "locked": true,
     "schema_version": 3,
     "solution": false,
     "task": false
    }
   },
   "source": [
    "As you can see, in filtering down to penguins with a body mass greater than 3600g, we have lost about 100 rows (observations). However, `answer1.7` doesn't seem like an informative name for this new dataset that you've created from `penguins`. Let's rename it to something else."
   ]
  },
  {
   "cell_type": "code",
   "execution_count": 24,
   "metadata": {
    "deletable": false,
    "editable": false,
    "nbgrader": {
     "cell_type": "code",
     "checksum": "e5fbd79f96c2b887e67dd0936b02435f",
     "grade": false,
     "grade_id": "cell-ad22993e5cc2f509",
     "locked": true,
     "schema_version": 3,
     "solution": false,
     "task": false
    }
   },
   "outputs": [],
   "source": [
    "penguins3600 <- answer1.7"
   ]
  },
  {
   "cell_type": "markdown",
   "metadata": {
    "deletable": false,
    "editable": false,
    "nbgrader": {
     "cell_type": "markdown",
     "checksum": "aec3374b9b2fd8c941228d4b8e8a5a4b",
     "grade": false,
     "grade_id": "cell-051fdf27d9771f42",
     "locked": true,
     "schema_version": 3,
     "solution": false,
     "task": false
    }
   },
   "source": [
    "## QUESTION 1.8\n",
    "\n",
    "From your \"new\" dataset `penguins3600`, take only data from penguins located in the Biscoe island. Store the result in a variable named `answer1.8`. "
   ]
  },
  {
   "cell_type": "code",
   "execution_count": 25,
   "metadata": {
    "deletable": false,
    "name": "question-1-7",
    "nbgrader": {
     "cell_type": "code",
     "checksum": "134928a758b84aa095df3daad1369cca",
     "grade": false,
     "grade_id": "cell-d7d71f8ef7623ddc",
     "locked": false,
     "schema_version": 3,
     "solution": true,
     "task": false
    }
   },
   "outputs": [
    {
     "data": {
      "text/html": [
       "<table class=\"dataframe\">\n",
       "<caption>A tibble: 6 × 8</caption>\n",
       "<thead>\n",
       "\t<tr><th scope=col>species</th><th scope=col>island</th><th scope=col>bill_length_mm</th><th scope=col>bill_depth_mm</th><th scope=col>flipper_length_mm</th><th scope=col>body_mass_g</th><th scope=col>sex</th><th scope=col>year</th></tr>\n",
       "\t<tr><th scope=col>&lt;fct&gt;</th><th scope=col>&lt;fct&gt;</th><th scope=col>&lt;dbl&gt;</th><th scope=col>&lt;dbl&gt;</th><th scope=col>&lt;int&gt;</th><th scope=col>&lt;int&gt;</th><th scope=col>&lt;fct&gt;</th><th scope=col>&lt;int&gt;</th></tr>\n",
       "</thead>\n",
       "<tbody>\n",
       "\t<tr><td>Adelie</td><td>Biscoe</td><td>35.9</td><td>19.2</td><td>189</td><td>3800</td><td>female</td><td>2007</td></tr>\n",
       "\t<tr><td>Adelie</td><td>Biscoe</td><td>38.2</td><td>18.1</td><td>185</td><td>3950</td><td>male  </td><td>2007</td></tr>\n",
       "\t<tr><td>Adelie</td><td>Biscoe</td><td>38.8</td><td>17.2</td><td>180</td><td>3800</td><td>male  </td><td>2007</td></tr>\n",
       "\t<tr><td>Adelie</td><td>Biscoe</td><td>35.3</td><td>18.9</td><td>187</td><td>3800</td><td>female</td><td>2007</td></tr>\n",
       "\t<tr><td>Adelie</td><td>Biscoe</td><td>40.5</td><td>18.9</td><td>180</td><td>3950</td><td>male  </td><td>2007</td></tr>\n",
       "\t<tr><td>Adelie</td><td>Biscoe</td><td>40.1</td><td>18.9</td><td>188</td><td>4300</td><td>male  </td><td>2008</td></tr>\n",
       "</tbody>\n",
       "</table>\n"
      ],
      "text/latex": [
       "A tibble: 6 × 8\n",
       "\\begin{tabular}{llllllll}\n",
       " species & island & bill\\_length\\_mm & bill\\_depth\\_mm & flipper\\_length\\_mm & body\\_mass\\_g & sex & year\\\\\n",
       " <fct> & <fct> & <dbl> & <dbl> & <int> & <int> & <fct> & <int>\\\\\n",
       "\\hline\n",
       "\t Adelie & Biscoe & 35.9 & 19.2 & 189 & 3800 & female & 2007\\\\\n",
       "\t Adelie & Biscoe & 38.2 & 18.1 & 185 & 3950 & male   & 2007\\\\\n",
       "\t Adelie & Biscoe & 38.8 & 17.2 & 180 & 3800 & male   & 2007\\\\\n",
       "\t Adelie & Biscoe & 35.3 & 18.9 & 187 & 3800 & female & 2007\\\\\n",
       "\t Adelie & Biscoe & 40.5 & 18.9 & 180 & 3950 & male   & 2007\\\\\n",
       "\t Adelie & Biscoe & 40.1 & 18.9 & 188 & 4300 & male   & 2008\\\\\n",
       "\\end{tabular}\n"
      ],
      "text/markdown": [
       "\n",
       "A tibble: 6 × 8\n",
       "\n",
       "| species &lt;fct&gt; | island &lt;fct&gt; | bill_length_mm &lt;dbl&gt; | bill_depth_mm &lt;dbl&gt; | flipper_length_mm &lt;int&gt; | body_mass_g &lt;int&gt; | sex &lt;fct&gt; | year &lt;int&gt; |\n",
       "|---|---|---|---|---|---|---|---|\n",
       "| Adelie | Biscoe | 35.9 | 19.2 | 189 | 3800 | female | 2007 |\n",
       "| Adelie | Biscoe | 38.2 | 18.1 | 185 | 3950 | male   | 2007 |\n",
       "| Adelie | Biscoe | 38.8 | 17.2 | 180 | 3800 | male   | 2007 |\n",
       "| Adelie | Biscoe | 35.3 | 18.9 | 187 | 3800 | female | 2007 |\n",
       "| Adelie | Biscoe | 40.5 | 18.9 | 180 | 3950 | male   | 2007 |\n",
       "| Adelie | Biscoe | 40.1 | 18.9 | 188 | 4300 | male   | 2008 |\n",
       "\n"
      ],
      "text/plain": [
       "  species island bill_length_mm bill_depth_mm flipper_length_mm body_mass_g\n",
       "1 Adelie  Biscoe 35.9           19.2          189               3800       \n",
       "2 Adelie  Biscoe 38.2           18.1          185               3950       \n",
       "3 Adelie  Biscoe 38.8           17.2          180               3800       \n",
       "4 Adelie  Biscoe 35.3           18.9          187               3800       \n",
       "5 Adelie  Biscoe 40.5           18.9          180               3950       \n",
       "6 Adelie  Biscoe 40.1           18.9          188               4300       \n",
       "  sex    year\n",
       "1 female 2007\n",
       "2 male   2007\n",
       "3 male   2007\n",
       "4 female 2007\n",
       "5 male   2007\n",
       "6 male   2008"
      ]
     },
     "metadata": {},
     "output_type": "display_data"
    }
   ],
   "source": [
    "answer1.8 <- filter(penguins3600, island == \"Biscoe\")\n",
    "\n",
    "head(answer1.8)"
   ]
  },
  {
   "cell_type": "code",
   "execution_count": 26,
   "metadata": {
    "deletable": false,
    "editable": false,
    "name": "test-1-7",
    "nbgrader": {
     "cell_type": "code",
     "checksum": "737d50c8e29d098e331f95e65f9c0623",
     "grade": true,
     "grade_id": "cell-5e4156e2a3ad4d40",
     "locked": true,
     "points": 1,
     "schema_version": 3,
     "solution": false,
     "task": false
    }
   },
   "outputs": [
    {
     "name": "stdout",
     "output_type": "stream",
     "text": [
      "\u001b[32mTest passed\u001b[39m \n",
      "success!"
     ]
    }
   ],
   "source": [
    "test_that(\"Question 1.8\", {\n",
    "  expect_equal(digest(dim(answer1.8)), \"92ac01cd2e8809faceb1f7a283cd935f\")\n",
    "  a <- as.character(unique(pull(answer1.8, island)))\n",
    "  expect_length(a, 1L)\n",
    "  expect_equal(a, \"Biscoe\")\n",
    "})\n",
    "cat(\"success!\")"
   ]
  },
  {
   "cell_type": "markdown",
   "metadata": {
    "deletable": false,
    "editable": false,
    "nbgrader": {
     "cell_type": "markdown",
     "checksum": "e39496d3ad6ea0548300f9a4cde19621",
     "grade": false,
     "grade_id": "cell-541157a971196e6d",
     "locked": true,
     "schema_version": 3,
     "solution": false,
     "task": false
    }
   },
   "source": [
    "## QUESTION 1.9\n",
    "\n",
    "Repeat the task from Question 1.8, but take data from islands Torgersen and Dream. Now that you've practiced with dplyr verbs quite a bit, you don't need as many prompts to answer! Hint: When you want to select more than one island, you use `%in%` instead of `==`.\n",
    "\n",
    "Store your answer in a variable named `answer1.9`."
   ]
  },
  {
   "cell_type": "code",
   "execution_count": 27,
   "metadata": {
    "deletable": false,
    "name": "question-1-8",
    "nbgrader": {
     "cell_type": "code",
     "checksum": "20d695f2efb664823ee669b7692233b2",
     "grade": false,
     "grade_id": "cell-30a32f98d928d5ef",
     "locked": false,
     "schema_version": 3,
     "solution": true,
     "task": false
    }
   },
   "outputs": [
    {
     "data": {
      "text/html": [
       "<table class=\"dataframe\">\n",
       "<caption>A tibble: 6 × 8</caption>\n",
       "<thead>\n",
       "\t<tr><th scope=col>species</th><th scope=col>island</th><th scope=col>bill_length_mm</th><th scope=col>bill_depth_mm</th><th scope=col>flipper_length_mm</th><th scope=col>body_mass_g</th><th scope=col>sex</th><th scope=col>year</th></tr>\n",
       "\t<tr><th scope=col>&lt;fct&gt;</th><th scope=col>&lt;fct&gt;</th><th scope=col>&lt;dbl&gt;</th><th scope=col>&lt;dbl&gt;</th><th scope=col>&lt;int&gt;</th><th scope=col>&lt;int&gt;</th><th scope=col>&lt;fct&gt;</th><th scope=col>&lt;int&gt;</th></tr>\n",
       "</thead>\n",
       "<tbody>\n",
       "\t<tr><td>Adelie</td><td>Torgersen</td><td>39.1</td><td>18.7</td><td>181</td><td>3750</td><td>male  </td><td>2007</td></tr>\n",
       "\t<tr><td>Adelie</td><td>Torgersen</td><td>39.5</td><td>17.4</td><td>186</td><td>3800</td><td>female</td><td>2007</td></tr>\n",
       "\t<tr><td>Adelie</td><td>Torgersen</td><td>39.3</td><td>20.6</td><td>190</td><td>3650</td><td>male  </td><td>2007</td></tr>\n",
       "\t<tr><td>Adelie</td><td>Torgersen</td><td>38.9</td><td>17.8</td><td>181</td><td>3625</td><td>female</td><td>2007</td></tr>\n",
       "\t<tr><td>Adelie</td><td>Torgersen</td><td>39.2</td><td>19.6</td><td>195</td><td>4675</td><td>male  </td><td>2007</td></tr>\n",
       "\t<tr><td>Adelie</td><td>Torgersen</td><td>42.0</td><td>20.2</td><td>190</td><td>4250</td><td>NA    </td><td>2007</td></tr>\n",
       "</tbody>\n",
       "</table>\n"
      ],
      "text/latex": [
       "A tibble: 6 × 8\n",
       "\\begin{tabular}{llllllll}\n",
       " species & island & bill\\_length\\_mm & bill\\_depth\\_mm & flipper\\_length\\_mm & body\\_mass\\_g & sex & year\\\\\n",
       " <fct> & <fct> & <dbl> & <dbl> & <int> & <int> & <fct> & <int>\\\\\n",
       "\\hline\n",
       "\t Adelie & Torgersen & 39.1 & 18.7 & 181 & 3750 & male   & 2007\\\\\n",
       "\t Adelie & Torgersen & 39.5 & 17.4 & 186 & 3800 & female & 2007\\\\\n",
       "\t Adelie & Torgersen & 39.3 & 20.6 & 190 & 3650 & male   & 2007\\\\\n",
       "\t Adelie & Torgersen & 38.9 & 17.8 & 181 & 3625 & female & 2007\\\\\n",
       "\t Adelie & Torgersen & 39.2 & 19.6 & 195 & 4675 & male   & 2007\\\\\n",
       "\t Adelie & Torgersen & 42.0 & 20.2 & 190 & 4250 & NA     & 2007\\\\\n",
       "\\end{tabular}\n"
      ],
      "text/markdown": [
       "\n",
       "A tibble: 6 × 8\n",
       "\n",
       "| species &lt;fct&gt; | island &lt;fct&gt; | bill_length_mm &lt;dbl&gt; | bill_depth_mm &lt;dbl&gt; | flipper_length_mm &lt;int&gt; | body_mass_g &lt;int&gt; | sex &lt;fct&gt; | year &lt;int&gt; |\n",
       "|---|---|---|---|---|---|---|---|\n",
       "| Adelie | Torgersen | 39.1 | 18.7 | 181 | 3750 | male   | 2007 |\n",
       "| Adelie | Torgersen | 39.5 | 17.4 | 186 | 3800 | female | 2007 |\n",
       "| Adelie | Torgersen | 39.3 | 20.6 | 190 | 3650 | male   | 2007 |\n",
       "| Adelie | Torgersen | 38.9 | 17.8 | 181 | 3625 | female | 2007 |\n",
       "| Adelie | Torgersen | 39.2 | 19.6 | 195 | 4675 | male   | 2007 |\n",
       "| Adelie | Torgersen | 42.0 | 20.2 | 190 | 4250 | NA     | 2007 |\n",
       "\n"
      ],
      "text/plain": [
       "  species island    bill_length_mm bill_depth_mm flipper_length_mm body_mass_g\n",
       "1 Adelie  Torgersen 39.1           18.7          181               3750       \n",
       "2 Adelie  Torgersen 39.5           17.4          186               3800       \n",
       "3 Adelie  Torgersen 39.3           20.6          190               3650       \n",
       "4 Adelie  Torgersen 38.9           17.8          181               3625       \n",
       "5 Adelie  Torgersen 39.2           19.6          195               4675       \n",
       "6 Adelie  Torgersen 42.0           20.2          190               4250       \n",
       "  sex    year\n",
       "1 male   2007\n",
       "2 female 2007\n",
       "3 male   2007\n",
       "4 female 2007\n",
       "5 male   2007\n",
       "6 NA     2007"
      ]
     },
     "metadata": {},
     "output_type": "display_data"
    }
   ],
   "source": [
    "# answer1.9 <- FILL_THIS_IN(FILL_THIS_IN, island FILL_THIS_IN c(\"FILL_THIS_IN\", \"FILL_THIS_IN\"))\n",
    "# your code here\n",
    "answer1.9 <- filter(penguins3600, island %in% c(\"Torgersen\", \"Dream\"))\n",
    "\n",
    "head(answer1.9)"
   ]
  },
  {
   "cell_type": "code",
   "execution_count": 28,
   "metadata": {
    "deletable": false,
    "editable": false,
    "name": "test-1-8",
    "nbgrader": {
     "cell_type": "code",
     "checksum": "c51da36986358f14234a1ac8967baeae",
     "grade": true,
     "grade_id": "cell-89c20b9e5605b929",
     "locked": true,
     "points": 1,
     "schema_version": 3,
     "solution": false,
     "task": false
    }
   },
   "outputs": [
    {
     "name": "stdout",
     "output_type": "stream",
     "text": [
      "\u001b[32mTest passed\u001b[39m \n",
      "success!"
     ]
    }
   ],
   "source": [
    "test_that(\"Question 1.9\", {\n",
    "  expect_equal(digest(dim(answer1.9)), \"b207bbce54bb47be51e7ba7b56d24bc2\")\n",
    "  expect_equal(sum(pull(answer1.9, island) == \"Torgersen\"), 28)\n",
    "  expect_equal(sum(pull(answer1.9, island) == \"Dream\"), 69)\n",
    "  expect_equal(sum(pull(answer1.9, island) == \"Biscoe\"), 0)\n",
    "})\n",
    "cat(\"success!\")"
   ]
  },
  {
   "cell_type": "markdown",
   "metadata": {
    "deletable": false,
    "editable": false,
    "nbgrader": {
     "cell_type": "markdown",
     "checksum": "7f1c5af822668e44902a51e61aef02a0",
     "grade": false,
     "grade_id": "cell-4a8582b78ed98d91",
     "locked": true,
     "schema_version": 3,
     "solution": false,
     "task": false
    }
   },
   "source": [
    "## `arrange()` \n",
    "\n",
    "`arrange()` allows you to rearrange rows. Let's give it a try!\n",
    "\n",
    "## QUESTION 1.10\n",
    "\n",
    "Order `penguins` by year, in ascending order. Store the resulting tibble in a variable named `answer1.10`."
   ]
  },
  {
   "cell_type": "code",
   "execution_count": 29,
   "metadata": {
    "deletable": false,
    "name": "question-1-9",
    "nbgrader": {
     "cell_type": "code",
     "checksum": "3205429a08cf954ab77533e04ba5e055",
     "grade": false,
     "grade_id": "cell-328575d183628b50",
     "locked": false,
     "schema_version": 3,
     "solution": true,
     "task": false
    }
   },
   "outputs": [
    {
     "data": {
      "text/html": [
       "<table class=\"dataframe\">\n",
       "<caption>A tibble: 6 × 8</caption>\n",
       "<thead>\n",
       "\t<tr><th scope=col>species</th><th scope=col>island</th><th scope=col>bill_length_mm</th><th scope=col>bill_depth_mm</th><th scope=col>flipper_length_mm</th><th scope=col>body_mass_g</th><th scope=col>sex</th><th scope=col>year</th></tr>\n",
       "\t<tr><th scope=col>&lt;fct&gt;</th><th scope=col>&lt;fct&gt;</th><th scope=col>&lt;dbl&gt;</th><th scope=col>&lt;dbl&gt;</th><th scope=col>&lt;int&gt;</th><th scope=col>&lt;int&gt;</th><th scope=col>&lt;fct&gt;</th><th scope=col>&lt;int&gt;</th></tr>\n",
       "</thead>\n",
       "<tbody>\n",
       "\t<tr><td>Adelie</td><td>Torgersen</td><td>39.1</td><td>18.7</td><td>181</td><td>3750</td><td>male  </td><td>2007</td></tr>\n",
       "\t<tr><td>Adelie</td><td>Torgersen</td><td>39.5</td><td>17.4</td><td>186</td><td>3800</td><td>female</td><td>2007</td></tr>\n",
       "\t<tr><td>Adelie</td><td>Torgersen</td><td>40.3</td><td>18.0</td><td>195</td><td>3250</td><td>female</td><td>2007</td></tr>\n",
       "\t<tr><td>Adelie</td><td>Torgersen</td><td>  NA</td><td>  NA</td><td> NA</td><td>  NA</td><td>NA    </td><td>2007</td></tr>\n",
       "\t<tr><td>Adelie</td><td>Torgersen</td><td>36.7</td><td>19.3</td><td>193</td><td>3450</td><td>female</td><td>2007</td></tr>\n",
       "\t<tr><td>Adelie</td><td>Torgersen</td><td>39.3</td><td>20.6</td><td>190</td><td>3650</td><td>male  </td><td>2007</td></tr>\n",
       "</tbody>\n",
       "</table>\n"
      ],
      "text/latex": [
       "A tibble: 6 × 8\n",
       "\\begin{tabular}{llllllll}\n",
       " species & island & bill\\_length\\_mm & bill\\_depth\\_mm & flipper\\_length\\_mm & body\\_mass\\_g & sex & year\\\\\n",
       " <fct> & <fct> & <dbl> & <dbl> & <int> & <int> & <fct> & <int>\\\\\n",
       "\\hline\n",
       "\t Adelie & Torgersen & 39.1 & 18.7 & 181 & 3750 & male   & 2007\\\\\n",
       "\t Adelie & Torgersen & 39.5 & 17.4 & 186 & 3800 & female & 2007\\\\\n",
       "\t Adelie & Torgersen & 40.3 & 18.0 & 195 & 3250 & female & 2007\\\\\n",
       "\t Adelie & Torgersen &   NA &   NA &  NA &   NA & NA     & 2007\\\\\n",
       "\t Adelie & Torgersen & 36.7 & 19.3 & 193 & 3450 & female & 2007\\\\\n",
       "\t Adelie & Torgersen & 39.3 & 20.6 & 190 & 3650 & male   & 2007\\\\\n",
       "\\end{tabular}\n"
      ],
      "text/markdown": [
       "\n",
       "A tibble: 6 × 8\n",
       "\n",
       "| species &lt;fct&gt; | island &lt;fct&gt; | bill_length_mm &lt;dbl&gt; | bill_depth_mm &lt;dbl&gt; | flipper_length_mm &lt;int&gt; | body_mass_g &lt;int&gt; | sex &lt;fct&gt; | year &lt;int&gt; |\n",
       "|---|---|---|---|---|---|---|---|\n",
       "| Adelie | Torgersen | 39.1 | 18.7 | 181 | 3750 | male   | 2007 |\n",
       "| Adelie | Torgersen | 39.5 | 17.4 | 186 | 3800 | female | 2007 |\n",
       "| Adelie | Torgersen | 40.3 | 18.0 | 195 | 3250 | female | 2007 |\n",
       "| Adelie | Torgersen |   NA |   NA |  NA |   NA | NA     | 2007 |\n",
       "| Adelie | Torgersen | 36.7 | 19.3 | 193 | 3450 | female | 2007 |\n",
       "| Adelie | Torgersen | 39.3 | 20.6 | 190 | 3650 | male   | 2007 |\n",
       "\n"
      ],
      "text/plain": [
       "  species island    bill_length_mm bill_depth_mm flipper_length_mm body_mass_g\n",
       "1 Adelie  Torgersen 39.1           18.7          181               3750       \n",
       "2 Adelie  Torgersen 39.5           17.4          186               3800       \n",
       "3 Adelie  Torgersen 40.3           18.0          195               3250       \n",
       "4 Adelie  Torgersen   NA             NA           NA                 NA       \n",
       "5 Adelie  Torgersen 36.7           19.3          193               3450       \n",
       "6 Adelie  Torgersen 39.3           20.6          190               3650       \n",
       "  sex    year\n",
       "1 male   2007\n",
       "2 female 2007\n",
       "3 female 2007\n",
       "4 NA     2007\n",
       "5 female 2007\n",
       "6 male   2007"
      ]
     },
     "metadata": {},
     "output_type": "display_data"
    }
   ],
   "source": [
    "# answer1.10 <- arrange(FILL_THIS_IN, FILL_THIS_IN)\n",
    "# your code here\n",
    "answer1.10 <- arrange(penguins, year)\n",
    "head(answer1.10)"
   ]
  },
  {
   "cell_type": "code",
   "execution_count": 30,
   "metadata": {
    "deletable": false,
    "editable": false,
    "name": "test-1-9",
    "nbgrader": {
     "cell_type": "code",
     "checksum": "6003adcf5179782d5a079adfec852e5e",
     "grade": true,
     "grade_id": "cell-f3eceec3a41ec267",
     "locked": true,
     "points": 1,
     "schema_version": 3,
     "solution": false,
     "task": false
    }
   },
   "outputs": [
    {
     "name": "stdout",
     "output_type": "stream",
     "text": [
      "\u001b[32mTest passed\u001b[39m \n",
      "success!"
     ]
    }
   ],
   "source": [
    "test_that(\"Question 1.10\", {\n",
    "    expect_sorted(pull(answer1.10, year))\n",
    "})\n",
    "cat(\"success!\")"
   ]
  },
  {
   "cell_type": "markdown",
   "metadata": {
    "deletable": false,
    "editable": false,
    "nbgrader": {
     "cell_type": "markdown",
     "checksum": "2e17dc0e08e077638e6cd6d8ce593824",
     "grade": false,
     "grade_id": "cell-6a5c389fdb642b97",
     "locked": true,
     "schema_version": 3,
     "solution": false,
     "task": false
    }
   },
   "source": [
    "## QUESTION 1.11\n",
    "\n",
    "Great work! Order `penguins` by year, in descending order. Hint: there is a function that allows you to order a variable in descending order called `desc()`.\n",
    "\n",
    "Store your tibble in a variable named `answer1.11`."
   ]
  },
  {
   "cell_type": "code",
   "execution_count": 36,
   "metadata": {
    "deletable": false,
    "name": "question-1-10",
    "nbgrader": {
     "cell_type": "code",
     "checksum": "65c587b6498994f0d37c8ba2a717996d",
     "grade": false,
     "grade_id": "cell-5d16610ec2eb5dec",
     "locked": false,
     "schema_version": 3,
     "solution": true,
     "task": false
    }
   },
   "outputs": [
    {
     "data": {
      "text/html": [
       "<table class=\"dataframe\">\n",
       "<caption>A tibble: 6 × 8</caption>\n",
       "<thead>\n",
       "\t<tr><th scope=col>species</th><th scope=col>island</th><th scope=col>bill_length_mm</th><th scope=col>bill_depth_mm</th><th scope=col>flipper_length_mm</th><th scope=col>body_mass_g</th><th scope=col>sex</th><th scope=col>year</th></tr>\n",
       "\t<tr><th scope=col>&lt;fct&gt;</th><th scope=col>&lt;fct&gt;</th><th scope=col>&lt;dbl&gt;</th><th scope=col>&lt;dbl&gt;</th><th scope=col>&lt;int&gt;</th><th scope=col>&lt;int&gt;</th><th scope=col>&lt;fct&gt;</th><th scope=col>&lt;int&gt;</th></tr>\n",
       "</thead>\n",
       "<tbody>\n",
       "\t<tr><td>Adelie</td><td>Biscoe</td><td>35.0</td><td>17.9</td><td>192</td><td>3725</td><td>female</td><td>2009</td></tr>\n",
       "\t<tr><td>Adelie</td><td>Biscoe</td><td>41.0</td><td>20.0</td><td>203</td><td>4725</td><td>male  </td><td>2009</td></tr>\n",
       "\t<tr><td>Adelie</td><td>Biscoe</td><td>37.7</td><td>16.0</td><td>183</td><td>3075</td><td>female</td><td>2009</td></tr>\n",
       "\t<tr><td>Adelie</td><td>Biscoe</td><td>37.8</td><td>20.0</td><td>190</td><td>4250</td><td>male  </td><td>2009</td></tr>\n",
       "\t<tr><td>Adelie</td><td>Biscoe</td><td>37.9</td><td>18.6</td><td>193</td><td>2925</td><td>female</td><td>2009</td></tr>\n",
       "\t<tr><td>Adelie</td><td>Biscoe</td><td>39.7</td><td>18.9</td><td>184</td><td>3550</td><td>male  </td><td>2009</td></tr>\n",
       "</tbody>\n",
       "</table>\n"
      ],
      "text/latex": [
       "A tibble: 6 × 8\n",
       "\\begin{tabular}{llllllll}\n",
       " species & island & bill\\_length\\_mm & bill\\_depth\\_mm & flipper\\_length\\_mm & body\\_mass\\_g & sex & year\\\\\n",
       " <fct> & <fct> & <dbl> & <dbl> & <int> & <int> & <fct> & <int>\\\\\n",
       "\\hline\n",
       "\t Adelie & Biscoe & 35.0 & 17.9 & 192 & 3725 & female & 2009\\\\\n",
       "\t Adelie & Biscoe & 41.0 & 20.0 & 203 & 4725 & male   & 2009\\\\\n",
       "\t Adelie & Biscoe & 37.7 & 16.0 & 183 & 3075 & female & 2009\\\\\n",
       "\t Adelie & Biscoe & 37.8 & 20.0 & 190 & 4250 & male   & 2009\\\\\n",
       "\t Adelie & Biscoe & 37.9 & 18.6 & 193 & 2925 & female & 2009\\\\\n",
       "\t Adelie & Biscoe & 39.7 & 18.9 & 184 & 3550 & male   & 2009\\\\\n",
       "\\end{tabular}\n"
      ],
      "text/markdown": [
       "\n",
       "A tibble: 6 × 8\n",
       "\n",
       "| species &lt;fct&gt; | island &lt;fct&gt; | bill_length_mm &lt;dbl&gt; | bill_depth_mm &lt;dbl&gt; | flipper_length_mm &lt;int&gt; | body_mass_g &lt;int&gt; | sex &lt;fct&gt; | year &lt;int&gt; |\n",
       "|---|---|---|---|---|---|---|---|\n",
       "| Adelie | Biscoe | 35.0 | 17.9 | 192 | 3725 | female | 2009 |\n",
       "| Adelie | Biscoe | 41.0 | 20.0 | 203 | 4725 | male   | 2009 |\n",
       "| Adelie | Biscoe | 37.7 | 16.0 | 183 | 3075 | female | 2009 |\n",
       "| Adelie | Biscoe | 37.8 | 20.0 | 190 | 4250 | male   | 2009 |\n",
       "| Adelie | Biscoe | 37.9 | 18.6 | 193 | 2925 | female | 2009 |\n",
       "| Adelie | Biscoe | 39.7 | 18.9 | 184 | 3550 | male   | 2009 |\n",
       "\n"
      ],
      "text/plain": [
       "  species island bill_length_mm bill_depth_mm flipper_length_mm body_mass_g\n",
       "1 Adelie  Biscoe 35.0           17.9          192               3725       \n",
       "2 Adelie  Biscoe 41.0           20.0          203               4725       \n",
       "3 Adelie  Biscoe 37.7           16.0          183               3075       \n",
       "4 Adelie  Biscoe 37.8           20.0          190               4250       \n",
       "5 Adelie  Biscoe 37.9           18.6          193               2925       \n",
       "6 Adelie  Biscoe 39.7           18.9          184               3550       \n",
       "  sex    year\n",
       "1 female 2009\n",
       "2 male   2009\n",
       "3 female 2009\n",
       "4 male   2009\n",
       "5 female 2009\n",
       "6 male   2009"
      ]
     },
     "metadata": {},
     "output_type": "display_data"
    }
   ],
   "source": [
    "# answer1.11 <- arrange(FILL_THIS_IN, FILL_THIS_IN)\n",
    "# your code here\n",
    "answer1.11 <- arrange(penguins, desc(year))\n",
    "#answer1.11 <- arrange(penguins, -year)\n",
    "head(answer1.11)"
   ]
  },
  {
   "cell_type": "code",
   "execution_count": 37,
   "metadata": {
    "deletable": false,
    "editable": false,
    "name": "test-1-10",
    "nbgrader": {
     "cell_type": "code",
     "checksum": "83c2ae4f6d1df94e7953226f5aa4c2a0",
     "grade": true,
     "grade_id": "cell-c17dc14cc8e6251d",
     "locked": true,
     "points": 1,
     "schema_version": 3,
     "solution": false,
     "task": false
    }
   },
   "outputs": [
    {
     "name": "stdout",
     "output_type": "stream",
     "text": [
      "\u001b[32mTest passed\u001b[39m \n",
      "success!"
     ]
    }
   ],
   "source": [
    "test_that(\"Question 1.11\", {\n",
    "    expect_sorted(pull(answer1.11, year) %>% \n",
    "                    rev())\n",
    "})\n",
    "cat(\"success!\")"
   ]
  },
  {
   "cell_type": "markdown",
   "metadata": {
    "deletable": false,
    "editable": false,
    "nbgrader": {
     "cell_type": "markdown",
     "checksum": "70e7d538da20c359dbd9d4e4bad37d79",
     "grade": false,
     "grade_id": "cell-83f549a48f378b7e",
     "locked": true,
     "schema_version": 3,
     "solution": false,
     "task": false
    }
   },
   "source": [
    "## QUESTION 1.12\n",
    "\n",
    "Order `penguins` by year, then by `body_mass_g`. Use ascending order in both cases.\n",
    "\n",
    "Store your answer in a variable named `answer1.12`"
   ]
  },
  {
   "cell_type": "code",
   "execution_count": 38,
   "metadata": {
    "deletable": false,
    "name": "question-1-11",
    "nbgrader": {
     "cell_type": "code",
     "checksum": "9ef8c16841f131e207231000a8713024",
     "grade": false,
     "grade_id": "cell-b0a6c4950411e1a0",
     "locked": false,
     "schema_version": 3,
     "solution": true,
     "task": false
    }
   },
   "outputs": [
    {
     "data": {
      "text/html": [
       "<table class=\"dataframe\">\n",
       "<caption>A tibble: 6 × 8</caption>\n",
       "<thead>\n",
       "\t<tr><th scope=col>species</th><th scope=col>island</th><th scope=col>bill_length_mm</th><th scope=col>bill_depth_mm</th><th scope=col>flipper_length_mm</th><th scope=col>body_mass_g</th><th scope=col>sex</th><th scope=col>year</th></tr>\n",
       "\t<tr><th scope=col>&lt;fct&gt;</th><th scope=col>&lt;fct&gt;</th><th scope=col>&lt;dbl&gt;</th><th scope=col>&lt;dbl&gt;</th><th scope=col>&lt;int&gt;</th><th scope=col>&lt;int&gt;</th><th scope=col>&lt;fct&gt;</th><th scope=col>&lt;int&gt;</th></tr>\n",
       "</thead>\n",
       "<tbody>\n",
       "\t<tr><td>Chinstrap</td><td>Dream </td><td>43.2</td><td>16.6</td><td>187</td><td>2900</td><td>female</td><td>2007</td></tr>\n",
       "\t<tr><td>Adelie   </td><td>Dream </td><td>37.5</td><td>18.9</td><td>179</td><td>2975</td><td>NA    </td><td>2007</td></tr>\n",
       "\t<tr><td>Adelie   </td><td>Dream </td><td>37.0</td><td>16.9</td><td>185</td><td>3000</td><td>female</td><td>2007</td></tr>\n",
       "\t<tr><td>Adelie   </td><td>Dream </td><td>36.0</td><td>18.5</td><td>186</td><td>3100</td><td>female</td><td>2007</td></tr>\n",
       "\t<tr><td>Adelie   </td><td>Biscoe</td><td>37.9</td><td>18.6</td><td>172</td><td>3150</td><td>female</td><td>2007</td></tr>\n",
       "\t<tr><td>Adelie   </td><td>Dream </td><td>36.5</td><td>18.0</td><td>182</td><td>3150</td><td>female</td><td>2007</td></tr>\n",
       "</tbody>\n",
       "</table>\n"
      ],
      "text/latex": [
       "A tibble: 6 × 8\n",
       "\\begin{tabular}{llllllll}\n",
       " species & island & bill\\_length\\_mm & bill\\_depth\\_mm & flipper\\_length\\_mm & body\\_mass\\_g & sex & year\\\\\n",
       " <fct> & <fct> & <dbl> & <dbl> & <int> & <int> & <fct> & <int>\\\\\n",
       "\\hline\n",
       "\t Chinstrap & Dream  & 43.2 & 16.6 & 187 & 2900 & female & 2007\\\\\n",
       "\t Adelie    & Dream  & 37.5 & 18.9 & 179 & 2975 & NA     & 2007\\\\\n",
       "\t Adelie    & Dream  & 37.0 & 16.9 & 185 & 3000 & female & 2007\\\\\n",
       "\t Adelie    & Dream  & 36.0 & 18.5 & 186 & 3100 & female & 2007\\\\\n",
       "\t Adelie    & Biscoe & 37.9 & 18.6 & 172 & 3150 & female & 2007\\\\\n",
       "\t Adelie    & Dream  & 36.5 & 18.0 & 182 & 3150 & female & 2007\\\\\n",
       "\\end{tabular}\n"
      ],
      "text/markdown": [
       "\n",
       "A tibble: 6 × 8\n",
       "\n",
       "| species &lt;fct&gt; | island &lt;fct&gt; | bill_length_mm &lt;dbl&gt; | bill_depth_mm &lt;dbl&gt; | flipper_length_mm &lt;int&gt; | body_mass_g &lt;int&gt; | sex &lt;fct&gt; | year &lt;int&gt; |\n",
       "|---|---|---|---|---|---|---|---|\n",
       "| Chinstrap | Dream  | 43.2 | 16.6 | 187 | 2900 | female | 2007 |\n",
       "| Adelie    | Dream  | 37.5 | 18.9 | 179 | 2975 | NA     | 2007 |\n",
       "| Adelie    | Dream  | 37.0 | 16.9 | 185 | 3000 | female | 2007 |\n",
       "| Adelie    | Dream  | 36.0 | 18.5 | 186 | 3100 | female | 2007 |\n",
       "| Adelie    | Biscoe | 37.9 | 18.6 | 172 | 3150 | female | 2007 |\n",
       "| Adelie    | Dream  | 36.5 | 18.0 | 182 | 3150 | female | 2007 |\n",
       "\n"
      ],
      "text/plain": [
       "  species   island bill_length_mm bill_depth_mm flipper_length_mm body_mass_g\n",
       "1 Chinstrap Dream  43.2           16.6          187               2900       \n",
       "2 Adelie    Dream  37.5           18.9          179               2975       \n",
       "3 Adelie    Dream  37.0           16.9          185               3000       \n",
       "4 Adelie    Dream  36.0           18.5          186               3100       \n",
       "5 Adelie    Biscoe 37.9           18.6          172               3150       \n",
       "6 Adelie    Dream  36.5           18.0          182               3150       \n",
       "  sex    year\n",
       "1 female 2007\n",
       "2 NA     2007\n",
       "3 female 2007\n",
       "4 female 2007\n",
       "5 female 2007\n",
       "6 female 2007"
      ]
     },
     "metadata": {},
     "output_type": "display_data"
    }
   ],
   "source": [
    "# answer1.12 <- arrange(FILL_THIS_IN, FILL_THIS_IN, FILL_THIS_IN)\n",
    "# your code here\n",
    "answer1.12 <- arrange(penguins, year, body_mass_g)\n",
    "head(answer1.12)"
   ]
  },
  {
   "cell_type": "code",
   "execution_count": 39,
   "metadata": {
    "deletable": false,
    "editable": false,
    "name": "test-1-11",
    "nbgrader": {
     "cell_type": "code",
     "checksum": "5d5dc33b13633940ff9c03c4ed8f99f6",
     "grade": true,
     "grade_id": "cell-942ca4a7dff525d4",
     "locked": true,
     "points": 1,
     "schema_version": 3,
     "solution": false,
     "task": false
    }
   },
   "outputs": [
    {
     "name": "stdout",
     "output_type": "stream",
     "text": [
      "\u001b[32mTest passed\u001b[39m \n",
      "success!"
     ]
    }
   ],
   "source": [
    "test_that(\"Question 1.12\", {\n",
    "  expect_sorted(pull(answer1.12, year))\n",
    "  answer1.12_list <- answer1.12 %>% \n",
    "    group_by(year) %>% \n",
    "    group_split()\n",
    "  \n",
    "  expect_length(answer1.12_list, 3)\n",
    "  expect_sorted(answer1.12_list[[1]] %>% pull(body_mass_g) %>% na.omit())\n",
    "  expect_sorted(answer1.12_list[[2]] %>% pull(body_mass_g) %>% na.omit())\n",
    "  expect_sorted(answer1.12_list[[3]] %>% pull(body_mass_g) %>% na.omit())\n",
    "})\n",
    "cat(\"success!\")"
   ]
  },
  {
   "cell_type": "markdown",
   "metadata": {
    "deletable": false,
    "editable": false,
    "nbgrader": {
     "cell_type": "markdown",
     "checksum": "4fb8fd640a694f457683e4f5747940ca",
     "grade": false,
     "grade_id": "cell-8670bdd2a80dcc71",
     "locked": true,
     "schema_version": 3,
     "solution": false,
     "task": false
    }
   },
   "source": [
    "## Piping, `%>%` \n",
    "\n",
    "So far, we've been using dplyr verbs by inputting the dataset that we want to work on as the first argument of the function (e.g. `select(**penguins**, year))`. This is fine when you're using a single verb, i.e. you only want to filter observations, or select variables. However, more often than not you will want to do several tasks at once; such as filtering penguins with a certain body mass, and simultaneously ordering those penguins by year. Here is where piping (`%>%`) comes in.\n",
    "\n",
    "Think of `%>%` as the word \"then\"!\n",
    "\n",
    "Let's see an example. Here I want to combine `select()` with `arrange()`.\n",
    "\n",
    "This is how I could do it by *nesting* the two function calls. I am selecting variables year, species, island, and body_mass_g, while simultaneously arranging by year."
   ]
  },
  {
   "cell_type": "code",
   "execution_count": 40,
   "metadata": {
    "deletable": false,
    "editable": false,
    "eval": false,
    "name": "nesting functions example",
    "nbgrader": {
     "cell_type": "code",
     "checksum": "b83bf34bafc68a12f039093c768339b4",
     "grade": false,
     "grade_id": "cell-8b04bc9446a8c4ac",
     "locked": true,
     "schema_version": 3,
     "solution": false,
     "task": false
    }
   },
   "outputs": [
    {
     "name": "stdout",
     "output_type": "stream",
     "text": [
      "\u001b[90m# A tibble: 344 x 4\u001b[39m\n",
      "   year species island    body_mass_g\n",
      "  \u001b[3m\u001b[90m<int>\u001b[39m\u001b[23m \u001b[3m\u001b[90m<fct>\u001b[39m\u001b[23m   \u001b[3m\u001b[90m<fct>\u001b[39m\u001b[23m           \u001b[3m\u001b[90m<int>\u001b[39m\u001b[23m\n",
      "\u001b[90m1\u001b[39m  \u001b[4m2\u001b[24m007 Adelie  Torgersen        \u001b[4m3\u001b[24m750\n",
      "\u001b[90m2\u001b[39m  \u001b[4m2\u001b[24m007 Adelie  Torgersen        \u001b[4m3\u001b[24m800\n",
      "\u001b[90m3\u001b[39m  \u001b[4m2\u001b[24m007 Adelie  Torgersen        \u001b[4m3\u001b[24m250\n",
      "\u001b[90m4\u001b[39m  \u001b[4m2\u001b[24m007 Adelie  Torgersen          \u001b[31mNA\u001b[39m\n",
      "\u001b[90m5\u001b[39m  \u001b[4m2\u001b[24m007 Adelie  Torgersen        \u001b[4m3\u001b[24m450\n",
      "\u001b[90m# ... with 339 more rows\u001b[39m\n"
     ]
    }
   ],
   "source": [
    "print(arrange(select(penguins, year, species, island, body_mass_g), year), n = 5)"
   ]
  },
  {
   "cell_type": "markdown",
   "metadata": {
    "deletable": false,
    "editable": false,
    "nbgrader": {
     "cell_type": "markdown",
     "checksum": "437bd4cbe9e6e1c13853db7c2df9a4b4",
     "grade": false,
     "grade_id": "cell-1f52ee5af576a960",
     "locked": true,
     "schema_version": 3,
     "solution": false,
     "task": false
    }
   },
   "source": [
    "However, that seems a little hard to read. Now using pipes:"
   ]
  },
  {
   "cell_type": "code",
   "execution_count": 41,
   "metadata": {
    "deletable": false,
    "editable": false,
    "nbgrader": {
     "cell_type": "code",
     "checksum": "349fd7cae5ac4c1fafbc960196af6010",
     "grade": false,
     "grade_id": "cell-c822cab993153419",
     "locked": true,
     "schema_version": 3,
     "solution": false,
     "task": false
    }
   },
   "outputs": [
    {
     "name": "stdout",
     "output_type": "stream",
     "text": [
      "\u001b[90m# A tibble: 344 x 4\u001b[39m\n",
      "   year species island    body_mass_g\n",
      "  \u001b[3m\u001b[90m<int>\u001b[39m\u001b[23m \u001b[3m\u001b[90m<fct>\u001b[39m\u001b[23m   \u001b[3m\u001b[90m<fct>\u001b[39m\u001b[23m           \u001b[3m\u001b[90m<int>\u001b[39m\u001b[23m\n",
      "\u001b[90m1\u001b[39m  \u001b[4m2\u001b[24m007 Adelie  Torgersen        \u001b[4m3\u001b[24m750\n",
      "\u001b[90m2\u001b[39m  \u001b[4m2\u001b[24m007 Adelie  Torgersen        \u001b[4m3\u001b[24m800\n",
      "\u001b[90m3\u001b[39m  \u001b[4m2\u001b[24m007 Adelie  Torgersen        \u001b[4m3\u001b[24m250\n",
      "\u001b[90m4\u001b[39m  \u001b[4m2\u001b[24m007 Adelie  Torgersen          \u001b[31mNA\u001b[39m\n",
      "\u001b[90m5\u001b[39m  \u001b[4m2\u001b[24m007 Adelie  Torgersen        \u001b[4m3\u001b[24m450\n",
      "\u001b[90m# ... with 339 more rows\u001b[39m\n"
     ]
    }
   ],
   "source": [
    "penguins %>%\n",
    "  select(year, species, island, body_mass_g) %>%\n",
    "  arrange(year) %>% \n",
    "  print(n = 5)"
   ]
  },
  {
   "cell_type": "markdown",
   "metadata": {
    "deletable": false,
    "editable": false,
    "nbgrader": {
     "cell_type": "markdown",
     "checksum": "e3f13c87c36e7127fae8bbfd8c271d3f",
     "grade": false,
     "grade_id": "cell-98ac8fcee497ce0d",
     "locked": true,
     "schema_version": 3,
     "solution": false,
     "task": false
    }
   },
   "source": [
    "## Creating tibbles\n",
    "\n",
    "Throughout Part A, we have been working with a tibble, `penguins`. Remember that when we ran `class()` on `penguins`, we could see that it was a dataframe that had been coerced to a tibble, which is a unifying feature of the tidyverse.\n",
    "\n",
    "Suppose that you have a dataframe that you want to coerce to a tibble. To do this, you can use `as_tibble()`. R comes with a few built-in datasets, one of which is `mtcars`. Let's check the class of `mtcars`:"
   ]
  },
  {
   "cell_type": "code",
   "execution_count": 42,
   "metadata": {
    "deletable": false,
    "editable": false,
    "nbgrader": {
     "cell_type": "code",
     "checksum": "8f8285eeb4e6af3669bd69c927e8ff9c",
     "grade": false,
     "grade_id": "cell-c7af6b2c82165fa0",
     "locked": true,
     "schema_version": 3,
     "solution": false,
     "task": false
    }
   },
   "outputs": [
    {
     "data": {
      "text/html": [
       "'data.frame'"
      ],
      "text/latex": [
       "'data.frame'"
      ],
      "text/markdown": [
       "'data.frame'"
      ],
      "text/plain": [
       "[1] \"data.frame\""
      ]
     },
     "metadata": {},
     "output_type": "display_data"
    }
   ],
   "source": [
    "class(mtcars)"
   ]
  },
  {
   "cell_type": "markdown",
   "metadata": {
    "deletable": false,
    "editable": false,
    "nbgrader": {
     "cell_type": "markdown",
     "checksum": "5381bd4f4bc01937cdee106c0dab3ade",
     "grade": false,
     "grade_id": "cell-7507b4dc963878ab",
     "locked": true,
     "schema_version": 3,
     "solution": false,
     "task": false
    }
   },
   "source": [
    "As you can see, mtcars is a dataframe. Now, coerce it to a tibble with `as_tibble()`:"
   ]
  },
  {
   "cell_type": "code",
   "execution_count": 43,
   "metadata": {
    "deletable": false,
    "editable": false,
    "nbgrader": {
     "cell_type": "code",
     "checksum": "a782b35e1d46a7b048af57eacc570061",
     "grade": false,
     "grade_id": "cell-7a8f6ffc86b48d2b",
     "locked": true,
     "schema_version": 3,
     "solution": false,
     "task": false
    }
   },
   "outputs": [
    {
     "name": "stdout",
     "output_type": "stream",
     "text": [
      "\u001b[90m# A tibble: 32 x 11\u001b[39m\n",
      "    mpg   cyl  disp    hp  drat    wt  qsec    vs    am  gear  carb\n",
      "  \u001b[3m\u001b[90m<dbl>\u001b[39m\u001b[23m \u001b[3m\u001b[90m<dbl>\u001b[39m\u001b[23m \u001b[3m\u001b[90m<dbl>\u001b[39m\u001b[23m \u001b[3m\u001b[90m<dbl>\u001b[39m\u001b[23m \u001b[3m\u001b[90m<dbl>\u001b[39m\u001b[23m \u001b[3m\u001b[90m<dbl>\u001b[39m\u001b[23m \u001b[3m\u001b[90m<dbl>\u001b[39m\u001b[23m \u001b[3m\u001b[90m<dbl>\u001b[39m\u001b[23m \u001b[3m\u001b[90m<dbl>\u001b[39m\u001b[23m \u001b[3m\u001b[90m<dbl>\u001b[39m\u001b[23m \u001b[3m\u001b[90m<dbl>\u001b[39m\u001b[23m\n",
      "\u001b[90m1\u001b[39m  21       6   160   110  3.9   2.62  16.5     0     1     4     4\n",
      "\u001b[90m2\u001b[39m  21       6   160   110  3.9   2.88  17.0     0     1     4     4\n",
      "\u001b[90m3\u001b[39m  22.8     4   108    93  3.85  2.32  18.6     1     1     4     1\n",
      "\u001b[90m4\u001b[39m  21.4     6   258   110  3.08  3.22  19.4     1     0     3     1\n",
      "\u001b[90m5\u001b[39m  18.7     8   360   175  3.15  3.44  17.0     0     0     3     2\n",
      "\u001b[90m# ... with 27 more rows\u001b[39m\n"
     ]
    }
   ],
   "source": [
    "as_tibble(mtcars) %>% \n",
    "    print(n = 5)"
   ]
  },
  {
   "cell_type": "markdown",
   "metadata": {
    "deletable": false,
    "editable": false,
    "nbgrader": {
     "cell_type": "markdown",
     "checksum": "db2f45b2c2c885d514fc0c2bdedd6745",
     "grade": false,
     "grade_id": "cell-8c956daac8fd8b0c",
     "locked": true,
     "schema_version": 3,
     "solution": false,
     "task": false
    }
   },
   "source": [
    "You can read more about tibbles in the [R4DS Tibble Chapter](https://r4ds.had.co.nz/tibbles.html#creating-tibbles).\n",
    "\n",
    "\n",
    "## QUESTION 1.13\n",
    "\n",
    "At the start of this worksheet, we loaded a package called `gapminder`. This package comes with a dataset stored in the variable also named `gapminder`. Check the class of the `gapminder` dataset:"
   ]
  },
  {
   "cell_type": "code",
   "execution_count": 44,
   "metadata": {
    "deletable": false,
    "editable": false,
    "nbgrader": {
     "cell_type": "code",
     "checksum": "4765e2bb110d358c0a5870fc29a55347",
     "grade": false,
     "grade_id": "cell-992bc1625f2613d0",
     "locked": true,
     "schema_version": 3,
     "solution": false,
     "task": false
    }
   },
   "outputs": [
    {
     "data": {
      "text/html": [
       "<style>\n",
       ".list-inline {list-style: none; margin:0; padding: 0}\n",
       ".list-inline>li {display: inline-block}\n",
       ".list-inline>li:not(:last-child)::after {content: \"\\00b7\"; padding: 0 .5ex}\n",
       "</style>\n",
       "<ol class=list-inline><li>'tbl_df'</li><li>'tbl'</li><li>'data.frame'</li></ol>\n"
      ],
      "text/latex": [
       "\\begin{enumerate*}\n",
       "\\item 'tbl\\_df'\n",
       "\\item 'tbl'\n",
       "\\item 'data.frame'\n",
       "\\end{enumerate*}\n"
      ],
      "text/markdown": [
       "1. 'tbl_df'\n",
       "2. 'tbl'\n",
       "3. 'data.frame'\n",
       "\n",
       "\n"
      ],
      "text/plain": [
       "[1] \"tbl_df\"     \"tbl\"        \"data.frame\""
      ]
     },
     "metadata": {},
     "output_type": "display_data"
    }
   ],
   "source": [
    "class(gapminder)"
   ]
  },
  {
   "cell_type": "markdown",
   "metadata": {
    "deletable": false,
    "editable": false,
    "nbgrader": {
     "cell_type": "markdown",
     "checksum": "4030b2884f6ec9c54cf1c46512d8529e",
     "grade": false,
     "grade_id": "cell-35bd3fa6efef2b5c",
     "locked": true,
     "schema_version": 3,
     "solution": false,
     "task": false
    }
   },
   "source": [
    "As you can see, it is already a tibble.\n",
    "\n",
    "Take all countries in Europe that have a GDP per capita greater than 10000, and select all variables except `gdpPercap`, using pipes. (Hint: use `-`).\n",
    "\n",
    "Store your answer in a variable named `answer1.13`. Here is a code snippet that you can copy and paste into the solution cell below. \n",
    "\n",
    "```\n",
    "answer1.13 <- FILL_THIS_IN %>%\n",
    "  filter(FILL_THIS_IN > 10000, FILL_THIS_IN == \"Europe\") %>%\n",
    "  FILL_THIS_IN(-FILL_THIS_IN)\n",
    "```"
   ]
  },
  {
   "cell_type": "code",
   "execution_count": 47,
   "metadata": {
    "deletable": false,
    "name": "question-1-14",
    "nbgrader": {
     "cell_type": "code",
     "checksum": "c6680597132ab0da22b3b6f2f029f38e",
     "grade": false,
     "grade_id": "cell-229c2279871804bd",
     "locked": false,
     "schema_version": 3,
     "solution": true,
     "task": false
    }
   },
   "outputs": [
    {
     "data": {
      "text/html": [
       "<table class=\"dataframe\">\n",
       "<caption>A tibble: 6 × 5</caption>\n",
       "<thead>\n",
       "\t<tr><th scope=col>country</th><th scope=col>continent</th><th scope=col>year</th><th scope=col>lifeExp</th><th scope=col>pop</th></tr>\n",
       "\t<tr><th scope=col>&lt;fct&gt;</th><th scope=col>&lt;fct&gt;</th><th scope=col>&lt;int&gt;</th><th scope=col>&lt;dbl&gt;</th><th scope=col>&lt;int&gt;</th></tr>\n",
       "</thead>\n",
       "<tbody>\n",
       "\t<tr><td>Austria</td><td>Europe</td><td>1962</td><td>69.54</td><td>7129864</td></tr>\n",
       "\t<tr><td>Austria</td><td>Europe</td><td>1967</td><td>70.14</td><td>7376998</td></tr>\n",
       "\t<tr><td>Austria</td><td>Europe</td><td>1972</td><td>70.63</td><td>7544201</td></tr>\n",
       "\t<tr><td>Austria</td><td>Europe</td><td>1977</td><td>72.17</td><td>7568430</td></tr>\n",
       "\t<tr><td>Austria</td><td>Europe</td><td>1982</td><td>73.18</td><td>7574613</td></tr>\n",
       "\t<tr><td>Austria</td><td>Europe</td><td>1987</td><td>74.94</td><td>7578903</td></tr>\n",
       "</tbody>\n",
       "</table>\n"
      ],
      "text/latex": [
       "A tibble: 6 × 5\n",
       "\\begin{tabular}{lllll}\n",
       " country & continent & year & lifeExp & pop\\\\\n",
       " <fct> & <fct> & <int> & <dbl> & <int>\\\\\n",
       "\\hline\n",
       "\t Austria & Europe & 1962 & 69.54 & 7129864\\\\\n",
       "\t Austria & Europe & 1967 & 70.14 & 7376998\\\\\n",
       "\t Austria & Europe & 1972 & 70.63 & 7544201\\\\\n",
       "\t Austria & Europe & 1977 & 72.17 & 7568430\\\\\n",
       "\t Austria & Europe & 1982 & 73.18 & 7574613\\\\\n",
       "\t Austria & Europe & 1987 & 74.94 & 7578903\\\\\n",
       "\\end{tabular}\n"
      ],
      "text/markdown": [
       "\n",
       "A tibble: 6 × 5\n",
       "\n",
       "| country &lt;fct&gt; | continent &lt;fct&gt; | year &lt;int&gt; | lifeExp &lt;dbl&gt; | pop &lt;int&gt; |\n",
       "|---|---|---|---|---|\n",
       "| Austria | Europe | 1962 | 69.54 | 7129864 |\n",
       "| Austria | Europe | 1967 | 70.14 | 7376998 |\n",
       "| Austria | Europe | 1972 | 70.63 | 7544201 |\n",
       "| Austria | Europe | 1977 | 72.17 | 7568430 |\n",
       "| Austria | Europe | 1982 | 73.18 | 7574613 |\n",
       "| Austria | Europe | 1987 | 74.94 | 7578903 |\n",
       "\n"
      ],
      "text/plain": [
       "  country continent year lifeExp pop    \n",
       "1 Austria Europe    1962 69.54   7129864\n",
       "2 Austria Europe    1967 70.14   7376998\n",
       "3 Austria Europe    1972 70.63   7544201\n",
       "4 Austria Europe    1977 72.17   7568430\n",
       "5 Austria Europe    1982 73.18   7574613\n",
       "6 Austria Europe    1987 74.94   7578903"
      ]
     },
     "metadata": {},
     "output_type": "display_data"
    }
   ],
   "source": [
    "# your code here\n",
    "answer1.13 <- gapminder %>%\n",
    "    filter(gdpPercap > 10000, continent == \"Europe\") %>%\n",
    "    select(-gdpPercap)\n",
    "head(answer1.13)"
   ]
  },
  {
   "cell_type": "code",
   "execution_count": 48,
   "metadata": {
    "deletable": false,
    "editable": false,
    "name": "test-1-14",
    "nbgrader": {
     "cell_type": "code",
     "checksum": "6f9491525635f048f6be77c624e578d2",
     "grade": true,
     "grade_id": "cell-d306a8e4f1863c71",
     "locked": true,
     "points": 1,
     "schema_version": 3,
     "solution": false,
     "task": false
    }
   },
   "outputs": [
    {
     "name": "stdout",
     "output_type": "stream",
     "text": [
      "\u001b[32mTest passed\u001b[39m \n",
      "success!"
     ]
    }
   ],
   "source": [
    "test_that(\"Question 1.13\", {\n",
    "  expect_equal(digest(dim(answer1.13)), \"87d72f02bf15a0a29647db0c48c9a226\")\n",
    "  expect_equal(digest(answer1.13), \"d0136991f3cfee4fcf896f677181c9c6\")\n",
    "})\n",
    "cat(\"success!\")"
   ]
  },
  {
   "cell_type": "markdown",
   "metadata": {
    "deletable": false,
    "editable": false,
    "nbgrader": {
     "cell_type": "markdown",
     "checksum": "bc2df7c8c0afe909cf419b98e0911f32",
     "grade": false,
     "grade_id": "cell-3e7c74b2095d67ab",
     "locked": true,
     "schema_version": 3,
     "solution": false,
     "task": false
    }
   },
   "source": [
    "## QUESTION 1.14\n",
    "\n",
    "Coerce the `mtcars` data frame to a tibble, and take all columns that start with the letter \"d\". \n",
    "*Hint: take a look at the \"Select helpers\" documentation by running the following code: `?tidyselect::select_helpers`.*\n",
    "\n",
    "Store your tibble in a variable named `answer1.14`\n",
    "\n",
    "```\n",
    "answer1.14 <- FILL_THIS_IN(FILL_THIS_IN) %>%\n",
    "    FILL_THIS_IN(FILL_THIS_IN(\"d\"))\n",
    "```"
   ]
  },
  {
   "cell_type": "code",
   "execution_count": 53,
   "metadata": {
    "deletable": false,
    "name": "question-1-15",
    "nbgrader": {
     "cell_type": "code",
     "checksum": "0bd95606ffae4b0041e8ac313caa70ff",
     "grade": false,
     "grade_id": "cell-e326cd7a208090ad",
     "locked": false,
     "schema_version": 3,
     "solution": true,
     "task": false
    }
   },
   "outputs": [
    {
     "data": {
      "text/html": [
       "<table class=\"dataframe\">\n",
       "<caption>A tibble: 6 × 2</caption>\n",
       "<thead>\n",
       "\t<tr><th scope=col>disp</th><th scope=col>drat</th></tr>\n",
       "\t<tr><th scope=col>&lt;dbl&gt;</th><th scope=col>&lt;dbl&gt;</th></tr>\n",
       "</thead>\n",
       "<tbody>\n",
       "\t<tr><td>160</td><td>3.90</td></tr>\n",
       "\t<tr><td>160</td><td>3.90</td></tr>\n",
       "\t<tr><td>108</td><td>3.85</td></tr>\n",
       "\t<tr><td>258</td><td>3.08</td></tr>\n",
       "\t<tr><td>360</td><td>3.15</td></tr>\n",
       "\t<tr><td>225</td><td>2.76</td></tr>\n",
       "</tbody>\n",
       "</table>\n"
      ],
      "text/latex": [
       "A tibble: 6 × 2\n",
       "\\begin{tabular}{ll}\n",
       " disp & drat\\\\\n",
       " <dbl> & <dbl>\\\\\n",
       "\\hline\n",
       "\t 160 & 3.90\\\\\n",
       "\t 160 & 3.90\\\\\n",
       "\t 108 & 3.85\\\\\n",
       "\t 258 & 3.08\\\\\n",
       "\t 360 & 3.15\\\\\n",
       "\t 225 & 2.76\\\\\n",
       "\\end{tabular}\n"
      ],
      "text/markdown": [
       "\n",
       "A tibble: 6 × 2\n",
       "\n",
       "| disp &lt;dbl&gt; | drat &lt;dbl&gt; |\n",
       "|---|---|\n",
       "| 160 | 3.90 |\n",
       "| 160 | 3.90 |\n",
       "| 108 | 3.85 |\n",
       "| 258 | 3.08 |\n",
       "| 360 | 3.15 |\n",
       "| 225 | 2.76 |\n",
       "\n"
      ],
      "text/plain": [
       "  disp drat\n",
       "1 160  3.90\n",
       "2 160  3.90\n",
       "3 108  3.85\n",
       "4 258  3.08\n",
       "5 360  3.15\n",
       "6 225  2.76"
      ]
     },
     "metadata": {},
     "output_type": "display_data"
    }
   ],
   "source": [
    "answer1.14 <- as_tibble(mtcars) %>% \n",
    "    select(starts_with(\"d\"))\n",
    "    \n",
    "head(answer1.14)\n",
    "\n"
   ]
  },
  {
   "cell_type": "code",
   "execution_count": 54,
   "metadata": {
    "deletable": false,
    "editable": false,
    "name": "test-1-15",
    "nbgrader": {
     "cell_type": "code",
     "checksum": "41a5782be8567396a9d6deb60c7f7788",
     "grade": true,
     "grade_id": "cell-cef50c68a7dc95c8",
     "locked": true,
     "points": 1,
     "schema_version": 3,
     "solution": false,
     "task": false
    }
   },
   "outputs": [
    {
     "name": "stdout",
     "output_type": "stream",
     "text": [
      "\u001b[32mTest passed\u001b[39m \n",
      "success!"
     ]
    }
   ],
   "source": [
    "test_that(\"Question 1.14\", {\n",
    "  expect_equal(digest(dim(answer1.14)), \"ea1df69d6a59227894d1d4330f9bfab8\")\n",
    "  expect_equal(digest(colnames(answer1.14)), \"0956954d01fe74c59c1f16850b7e874f\")\n",
    "})\n",
    "cat(\"success!\")"
   ]
  },
  {
   "cell_type": "markdown",
   "metadata": {
    "deletable": false,
    "editable": false,
    "nbgrader": {
     "cell_type": "markdown",
     "checksum": "c637cbb8127c15cb1904198aa2534cdf",
     "grade": false,
     "grade_id": "cell-5f4fafc8a7e30702",
     "locked": true,
     "schema_version": 3,
     "solution": false,
     "task": false
    }
   },
   "source": [
    "This exercise is from [r-exercises](https://www.r-exercises.com/2017/10/19/dplyr-basic-functions-exercises/).\n",
    "\n",
    "## `mutate()`\n",
    "\n",
    "The `mutate()` function allows you to create new columns, possibly using existing columns. Like `select()`, `filter()`, and `arrange()`, the `mutate()` function also takes a tibble as its first argument, and returns a tibble. \n",
    "\n",
    "The general syntax is: `mutate(tibble, NEW_COLUMN_NAME = CALCULATION)`.\n",
    "\n",
    "## QUESTION 1.15\n",
    "\n",
    "Make a new column with body mass in kg, named `body_mass_kg`, *and* rearrange the tibble so that `body_mass_kg` goes after `body_mass_g` and before `sex`. Store the resulting tibble in a variable named `answer1.15`.\n",
    "\n",
    "\n",
    "*Hint*: within `select()`, use R's `:` operator to select all variables from `species` to `body_mass_g`.\n",
    "\n",
    "```\n",
    "answer1.15 <- penguins %>%\n",
    "    mutate(FILL_THIS_IN = FILL_THIS_IN) %>%\n",
    "    select(FILL_THIS_IN, FILL_THIS_IN, FILL_THIS_IN, FILL_THIS_IN)\n",
    "```"
   ]
  },
  {
   "cell_type": "code",
   "execution_count": 61,
   "metadata": {
    "deletable": false,
    "name": "question-1-12",
    "nbgrader": {
     "cell_type": "code",
     "checksum": "7702c84540ddffebe97e47fc6a792106",
     "grade": false,
     "grade_id": "cell-d9e8ace4de3d5db5",
     "locked": false,
     "schema_version": 3,
     "solution": true,
     "task": false
    }
   },
   "outputs": [
    {
     "data": {
      "text/html": [
       "<table class=\"dataframe\">\n",
       "<caption>A tibble: 6 × 9</caption>\n",
       "<thead>\n",
       "\t<tr><th scope=col>species</th><th scope=col>island</th><th scope=col>bill_length_mm</th><th scope=col>bill_depth_mm</th><th scope=col>flipper_length_mm</th><th scope=col>body_mass_g</th><th scope=col>body_mass_kg</th><th scope=col>sex</th><th scope=col>year</th></tr>\n",
       "\t<tr><th scope=col>&lt;fct&gt;</th><th scope=col>&lt;fct&gt;</th><th scope=col>&lt;dbl&gt;</th><th scope=col>&lt;dbl&gt;</th><th scope=col>&lt;int&gt;</th><th scope=col>&lt;int&gt;</th><th scope=col>&lt;dbl&gt;</th><th scope=col>&lt;fct&gt;</th><th scope=col>&lt;int&gt;</th></tr>\n",
       "</thead>\n",
       "<tbody>\n",
       "\t<tr><td>Adelie</td><td>Torgersen</td><td>39.1</td><td>18.7</td><td>181</td><td>3750</td><td>3.75</td><td>male  </td><td>2007</td></tr>\n",
       "\t<tr><td>Adelie</td><td>Torgersen</td><td>39.5</td><td>17.4</td><td>186</td><td>3800</td><td>3.80</td><td>female</td><td>2007</td></tr>\n",
       "\t<tr><td>Adelie</td><td>Torgersen</td><td>40.3</td><td>18.0</td><td>195</td><td>3250</td><td>3.25</td><td>female</td><td>2007</td></tr>\n",
       "\t<tr><td>Adelie</td><td>Torgersen</td><td>  NA</td><td>  NA</td><td> NA</td><td>  NA</td><td>  NA</td><td>NA    </td><td>2007</td></tr>\n",
       "\t<tr><td>Adelie</td><td>Torgersen</td><td>36.7</td><td>19.3</td><td>193</td><td>3450</td><td>3.45</td><td>female</td><td>2007</td></tr>\n",
       "\t<tr><td>Adelie</td><td>Torgersen</td><td>39.3</td><td>20.6</td><td>190</td><td>3650</td><td>3.65</td><td>male  </td><td>2007</td></tr>\n",
       "</tbody>\n",
       "</table>\n"
      ],
      "text/latex": [
       "A tibble: 6 × 9\n",
       "\\begin{tabular}{lllllllll}\n",
       " species & island & bill\\_length\\_mm & bill\\_depth\\_mm & flipper\\_length\\_mm & body\\_mass\\_g & body\\_mass\\_kg & sex & year\\\\\n",
       " <fct> & <fct> & <dbl> & <dbl> & <int> & <int> & <dbl> & <fct> & <int>\\\\\n",
       "\\hline\n",
       "\t Adelie & Torgersen & 39.1 & 18.7 & 181 & 3750 & 3.75 & male   & 2007\\\\\n",
       "\t Adelie & Torgersen & 39.5 & 17.4 & 186 & 3800 & 3.80 & female & 2007\\\\\n",
       "\t Adelie & Torgersen & 40.3 & 18.0 & 195 & 3250 & 3.25 & female & 2007\\\\\n",
       "\t Adelie & Torgersen &   NA &   NA &  NA &   NA &   NA & NA     & 2007\\\\\n",
       "\t Adelie & Torgersen & 36.7 & 19.3 & 193 & 3450 & 3.45 & female & 2007\\\\\n",
       "\t Adelie & Torgersen & 39.3 & 20.6 & 190 & 3650 & 3.65 & male   & 2007\\\\\n",
       "\\end{tabular}\n"
      ],
      "text/markdown": [
       "\n",
       "A tibble: 6 × 9\n",
       "\n",
       "| species &lt;fct&gt; | island &lt;fct&gt; | bill_length_mm &lt;dbl&gt; | bill_depth_mm &lt;dbl&gt; | flipper_length_mm &lt;int&gt; | body_mass_g &lt;int&gt; | body_mass_kg &lt;dbl&gt; | sex &lt;fct&gt; | year &lt;int&gt; |\n",
       "|---|---|---|---|---|---|---|---|---|\n",
       "| Adelie | Torgersen | 39.1 | 18.7 | 181 | 3750 | 3.75 | male   | 2007 |\n",
       "| Adelie | Torgersen | 39.5 | 17.4 | 186 | 3800 | 3.80 | female | 2007 |\n",
       "| Adelie | Torgersen | 40.3 | 18.0 | 195 | 3250 | 3.25 | female | 2007 |\n",
       "| Adelie | Torgersen |   NA |   NA |  NA |   NA |   NA | NA     | 2007 |\n",
       "| Adelie | Torgersen | 36.7 | 19.3 | 193 | 3450 | 3.45 | female | 2007 |\n",
       "| Adelie | Torgersen | 39.3 | 20.6 | 190 | 3650 | 3.65 | male   | 2007 |\n",
       "\n"
      ],
      "text/plain": [
       "  species island    bill_length_mm bill_depth_mm flipper_length_mm body_mass_g\n",
       "1 Adelie  Torgersen 39.1           18.7          181               3750       \n",
       "2 Adelie  Torgersen 39.5           17.4          186               3800       \n",
       "3 Adelie  Torgersen 40.3           18.0          195               3250       \n",
       "4 Adelie  Torgersen   NA             NA           NA                 NA       \n",
       "5 Adelie  Torgersen 36.7           19.3          193               3450       \n",
       "6 Adelie  Torgersen 39.3           20.6          190               3650       \n",
       "  body_mass_kg sex    year\n",
       "1 3.75         male   2007\n",
       "2 3.80         female 2007\n",
       "3 3.25         female 2007\n",
       "4   NA         NA     2007\n",
       "5 3.45         female 2007\n",
       "6 3.65         male   2007"
      ]
     },
     "metadata": {},
     "output_type": "display_data"
    }
   ],
   "source": [
    "answer1.15 <- penguins %>% \n",
    "    mutate(body_mass_kg = body_mass_g/1000)%>%\n",
    "    select(species:body_mass_g, body_mass_kg, sex, year)\n",
    "    \n",
    "\n",
    "\n",
    "head(answer1.15)"
   ]
  },
  {
   "cell_type": "code",
   "execution_count": 62,
   "metadata": {
    "deletable": false,
    "editable": false,
    "name": "test-1-12",
    "nbgrader": {
     "cell_type": "code",
     "checksum": "9c7c53cef74dae7ec6af64e4920b62c2",
     "grade": true,
     "grade_id": "cell-2aa7af4bee586e8b",
     "locked": true,
     "points": 1,
     "schema_version": 3,
     "solution": false,
     "task": false
    }
   },
   "outputs": [
    {
     "name": "stdout",
     "output_type": "stream",
     "text": [
      "\u001b[32mTest passed\u001b[39m \n",
      "success!"
     ]
    }
   ],
   "source": [
    "test_that(\"Question 1.15\", {\n",
    "  expect_equal(digest(dim(answer1.15)), \"9e9457527d068c2333ea8fd598e07f13\")\n",
    "  expect_equal(digest(colnames(answer1.15)), \"d7121e41fe934232c1c45dc425365040\")\n",
    "  expect_equal(na.omit(answer1.15$body_mass_kg / answer1.15$body_mass_g) %>% digest,\n",
    "               \"cdfbfd4da65e3575a474558218939055\")\n",
    "})\n",
    "cat(\"success!\")"
   ]
  },
  {
   "cell_type": "markdown",
   "metadata": {
    "deletable": false,
    "editable": false,
    "nbgrader": {
     "cell_type": "markdown",
     "checksum": "775e141af5ce8163ee51ed0fb5ed9748",
     "grade": false,
     "grade_id": "cell-ddd7c27cced93e3e",
     "locked": true,
     "schema_version": 3,
     "solution": false,
     "task": false
    }
   },
   "source": [
    "Notice the backwards compatibility! No need for loops! By the way, if you'd like to simultaneously create columns _and_ delete other columns, use the `transmute` function."
   ]
  },
  {
   "cell_type": "markdown",
   "metadata": {
    "deletable": false,
    "editable": false,
    "nbgrader": {
     "cell_type": "markdown",
     "checksum": "38123a24d635667c645e7ae81c3703e5",
     "grade": false,
     "grade_id": "cell-93fb11af8743ba66",
     "locked": true,
     "schema_version": 3,
     "solution": false,
     "task": false
    }
   },
   "source": [
    "## `group_by()`\n",
    "\n",
    "The `group_by()` function groups the _rows_ in your tibble according to one or more categorical variables. Just specify the columns containing the grouping variables. `mutate()` (and others) will now operate on each chunk independently. \n",
    "\n",
    "## QUESTION 1.16\n",
    "\n",
    "Calculate the growth in population since the first year on record _for each country_, and name the column `rel_growth`. Do this by **rearranging the following lines**, and **filling in the `FILL_THIS_IN`**. Assign your answer to a variable named `answer1.16`\n",
    "\n",
    "*Hint*: Here's another convenience function for you: `dplyr::first()`.\n",
    "\n",
    "```\n",
    "answer1.16 <-\n",
    "    mutate(rel_growth = FILL_THIS_IN) %>% \n",
    "    arrange(FILL_THIS_IN) %>% \n",
    "    gapminder %>% \n",
    "    group_by(country) %>% \n",
    "```"
   ]
  },
  {
   "cell_type": "code",
   "execution_count": 83,
   "metadata": {
    "deletable": false,
    "nbgrader": {
     "cell_type": "code",
     "checksum": "f65d591e15108c03f9d889d1515cbf11",
     "grade": false,
     "grade_id": "cell-2ab3613bc7f96623",
     "locked": false,
     "schema_version": 3,
     "solution": true,
     "task": false
    }
   },
   "outputs": [
    {
     "data": {
      "text/html": [
       "<table class=\"dataframe\">\n",
       "<caption>A grouped_df: 6 × 7</caption>\n",
       "<thead>\n",
       "\t<tr><th scope=col>country</th><th scope=col>continent</th><th scope=col>year</th><th scope=col>lifeExp</th><th scope=col>pop</th><th scope=col>gdpPercap</th><th scope=col>rel_growth</th></tr>\n",
       "\t<tr><th scope=col>&lt;fct&gt;</th><th scope=col>&lt;fct&gt;</th><th scope=col>&lt;int&gt;</th><th scope=col>&lt;dbl&gt;</th><th scope=col>&lt;int&gt;</th><th scope=col>&lt;dbl&gt;</th><th scope=col>&lt;int&gt;</th></tr>\n",
       "</thead>\n",
       "<tbody>\n",
       "\t<tr><td>Afghanistan</td><td>Asia    </td><td>1952</td><td>28.801</td><td> 8425333</td><td>  779.4453</td><td>0</td></tr>\n",
       "\t<tr><td>Albania    </td><td>Europe  </td><td>1952</td><td>55.230</td><td> 1282697</td><td> 1601.0561</td><td>0</td></tr>\n",
       "\t<tr><td>Algeria    </td><td>Africa  </td><td>1952</td><td>43.077</td><td> 9279525</td><td> 2449.0082</td><td>0</td></tr>\n",
       "\t<tr><td>Angola     </td><td>Africa  </td><td>1952</td><td>30.015</td><td> 4232095</td><td> 3520.6103</td><td>0</td></tr>\n",
       "\t<tr><td>Argentina  </td><td>Americas</td><td>1952</td><td>62.485</td><td>17876956</td><td> 5911.3151</td><td>0</td></tr>\n",
       "\t<tr><td>Australia  </td><td>Oceania </td><td>1952</td><td>69.120</td><td> 8691212</td><td>10039.5956</td><td>0</td></tr>\n",
       "</tbody>\n",
       "</table>\n"
      ],
      "text/latex": [
       "A grouped\\_df: 6 × 7\n",
       "\\begin{tabular}{lllllll}\n",
       " country & continent & year & lifeExp & pop & gdpPercap & rel\\_growth\\\\\n",
       " <fct> & <fct> & <int> & <dbl> & <int> & <dbl> & <int>\\\\\n",
       "\\hline\n",
       "\t Afghanistan & Asia     & 1952 & 28.801 &  8425333 &   779.4453 & 0\\\\\n",
       "\t Albania     & Europe   & 1952 & 55.230 &  1282697 &  1601.0561 & 0\\\\\n",
       "\t Algeria     & Africa   & 1952 & 43.077 &  9279525 &  2449.0082 & 0\\\\\n",
       "\t Angola      & Africa   & 1952 & 30.015 &  4232095 &  3520.6103 & 0\\\\\n",
       "\t Argentina   & Americas & 1952 & 62.485 & 17876956 &  5911.3151 & 0\\\\\n",
       "\t Australia   & Oceania  & 1952 & 69.120 &  8691212 & 10039.5956 & 0\\\\\n",
       "\\end{tabular}\n"
      ],
      "text/markdown": [
       "\n",
       "A grouped_df: 6 × 7\n",
       "\n",
       "| country &lt;fct&gt; | continent &lt;fct&gt; | year &lt;int&gt; | lifeExp &lt;dbl&gt; | pop &lt;int&gt; | gdpPercap &lt;dbl&gt; | rel_growth &lt;int&gt; |\n",
       "|---|---|---|---|---|---|---|\n",
       "| Afghanistan | Asia     | 1952 | 28.801 |  8425333 |   779.4453 | 0 |\n",
       "| Albania     | Europe   | 1952 | 55.230 |  1282697 |  1601.0561 | 0 |\n",
       "| Algeria     | Africa   | 1952 | 43.077 |  9279525 |  2449.0082 | 0 |\n",
       "| Angola      | Africa   | 1952 | 30.015 |  4232095 |  3520.6103 | 0 |\n",
       "| Argentina   | Americas | 1952 | 62.485 | 17876956 |  5911.3151 | 0 |\n",
       "| Australia   | Oceania  | 1952 | 69.120 |  8691212 | 10039.5956 | 0 |\n",
       "\n"
      ],
      "text/plain": [
       "  country     continent year lifeExp pop      gdpPercap  rel_growth\n",
       "1 Afghanistan Asia      1952 28.801   8425333   779.4453 0         \n",
       "2 Albania     Europe    1952 55.230   1282697  1601.0561 0         \n",
       "3 Algeria     Africa    1952 43.077   9279525  2449.0082 0         \n",
       "4 Angola      Africa    1952 30.015   4232095  3520.6103 0         \n",
       "5 Argentina   Americas  1952 62.485  17876956  5911.3151 0         \n",
       "6 Australia   Oceania   1952 69.120   8691212 10039.5956 0         "
      ]
     },
     "metadata": {},
     "output_type": "display_data"
    }
   ],
   "source": [
    "answer1.16 <- gapminder %>%\n",
    "    group_by(country) %>%\n",
    "    arrange(year)%>%\n",
    "    mutate(rel_growth = pop - first(pop))\n",
    "head(answer1.16)"
   ]
  },
  {
   "cell_type": "code",
   "execution_count": 84,
   "metadata": {
    "deletable": false,
    "editable": false,
    "nbgrader": {
     "cell_type": "code",
     "checksum": "651d6f7c27b262eb0a215ec7f60d91ee",
     "grade": true,
     "grade_id": "cell-bc032212871c46c6",
     "locked": true,
     "points": 1,
     "schema_version": 3,
     "solution": false,
     "task": false
    }
   },
   "outputs": [
    {
     "name": "stdout",
     "output_type": "stream",
     "text": [
      "\u001b[32mTest passed\u001b[39m \n",
      "success!"
     ]
    }
   ],
   "source": [
    "test_that(\"Answer 1.16\", {\n",
    "    expect_equal(nrow(answer1.16), 1704)\n",
    "    c('country', 'continent', 'year', 'lifeExp', 'pop', 'gdpPercap', 'rel_growth') %>% \n",
    "       map_lgl(~ .x %in% names(answer1.16)) %>% \n",
    "       all() %>% \n",
    "       expect_true()\n",
    "    expect_equal(digest(as.integer(answer1.16$rel_growth)), '26735e4b17481f965f9eb1d3b5de89ad')\n",
    "})\n",
    "cat(\"success!\")"
   ]
  },
  {
   "cell_type": "markdown",
   "metadata": {
    "deletable": false,
    "editable": false,
    "nbgrader": {
     "cell_type": "markdown",
     "checksum": "ca177f3fcd5e8fc6b218433e60ec3a12",
     "grade": false,
     "grade_id": "cell-7ccdc0e8d8d7cfa0",
     "locked": true,
     "schema_version": 3,
     "solution": false,
     "task": false
    }
   },
   "source": [
    "## `summarise()`\n",
    "\n",
    "The last core dplyr verb is `summarise()`. It collapses a data frame to a single row:"
   ]
  },
  {
   "cell_type": "code",
   "execution_count": 85,
   "metadata": {
    "deletable": false,
    "editable": false,
    "nbgrader": {
     "cell_type": "code",
     "checksum": "f46e9a4ccc1c8c085838d667eb7ae817",
     "grade": false,
     "grade_id": "cell-6b1f5abffe346c3f",
     "locked": true,
     "schema_version": 3,
     "solution": false,
     "task": false
    }
   },
   "outputs": [
    {
     "data": {
      "text/html": [
       "<table class=\"dataframe\">\n",
       "<caption>A tibble: 1 × 1</caption>\n",
       "<thead>\n",
       "\t<tr><th scope=col>body_mass_mean</th></tr>\n",
       "\t<tr><th scope=col>&lt;dbl&gt;</th></tr>\n",
       "</thead>\n",
       "<tbody>\n",
       "\t<tr><td>4201.754</td></tr>\n",
       "</tbody>\n",
       "</table>\n"
      ],
      "text/latex": [
       "A tibble: 1 × 1\n",
       "\\begin{tabular}{l}\n",
       " body\\_mass\\_mean\\\\\n",
       " <dbl>\\\\\n",
       "\\hline\n",
       "\t 4201.754\\\\\n",
       "\\end{tabular}\n"
      ],
      "text/markdown": [
       "\n",
       "A tibble: 1 × 1\n",
       "\n",
       "| body_mass_mean &lt;dbl&gt; |\n",
       "|---|\n",
       "| 4201.754 |\n",
       "\n"
      ],
      "text/plain": [
       "  body_mass_mean\n",
       "1 4201.754      "
      ]
     },
     "metadata": {},
     "output_type": "display_data"
    }
   ],
   "source": [
    "summarise(penguins, body_mass_mean = mean(body_mass_g, na.rm = TRUE))"
   ]
  },
  {
   "cell_type": "markdown",
   "metadata": {
    "deletable": false,
    "editable": false,
    "nbgrader": {
     "cell_type": "markdown",
     "checksum": "f37035a11976fe21525e15757c10884b",
     "grade": false,
     "grade_id": "cell-cb9e443cf78bab58",
     "locked": true,
     "schema_version": 3,
     "solution": false,
     "task": false
    }
   },
   "source": [
    "*From R4DS Data Transformation:* \n",
    "\n",
    "> `summarise()` is not terribly useful unless we pair it with `group_by()`. This changes the unit of analysis from the complete dataset to individual groups. Then, when you use the dplyr verbs on a grouped data frame they'll be automatically applied \"by group\".\n",
    "\n",
    "For example, if we applied exactly the same code to a tibble grouped by island, we get the average body mass per island:"
   ]
  },
  {
   "cell_type": "code",
   "execution_count": 86,
   "metadata": {
    "deletable": false,
    "editable": false,
    "nbgrader": {
     "cell_type": "code",
     "checksum": "240d075af880582466a6bb0f5bc098c6",
     "grade": false,
     "grade_id": "cell-833376d1ffa3e568",
     "locked": true,
     "schema_version": 3,
     "solution": false,
     "task": false
    }
   },
   "outputs": [
    {
     "data": {
      "text/html": [
       "<table class=\"dataframe\">\n",
       "<caption>A tibble: 3 × 2</caption>\n",
       "<thead>\n",
       "\t<tr><th scope=col>island</th><th scope=col>body_mass_mean</th></tr>\n",
       "\t<tr><th scope=col>&lt;fct&gt;</th><th scope=col>&lt;dbl&gt;</th></tr>\n",
       "</thead>\n",
       "<tbody>\n",
       "\t<tr><td>Biscoe   </td><td>4716.018</td></tr>\n",
       "\t<tr><td>Dream    </td><td>3712.903</td></tr>\n",
       "\t<tr><td>Torgersen</td><td>3706.373</td></tr>\n",
       "</tbody>\n",
       "</table>\n"
      ],
      "text/latex": [
       "A tibble: 3 × 2\n",
       "\\begin{tabular}{ll}\n",
       " island & body\\_mass\\_mean\\\\\n",
       " <fct> & <dbl>\\\\\n",
       "\\hline\n",
       "\t Biscoe    & 4716.018\\\\\n",
       "\t Dream     & 3712.903\\\\\n",
       "\t Torgersen & 3706.373\\\\\n",
       "\\end{tabular}\n"
      ],
      "text/markdown": [
       "\n",
       "A tibble: 3 × 2\n",
       "\n",
       "| island &lt;fct&gt; | body_mass_mean &lt;dbl&gt; |\n",
       "|---|---|\n",
       "| Biscoe    | 4716.018 |\n",
       "| Dream     | 3712.903 |\n",
       "| Torgersen | 3706.373 |\n",
       "\n"
      ],
      "text/plain": [
       "  island    body_mass_mean\n",
       "1 Biscoe    4716.018      \n",
       "2 Dream     3712.903      \n",
       "3 Torgersen 3706.373      "
      ]
     },
     "metadata": {},
     "output_type": "display_data"
    }
   ],
   "source": [
    "penguins %>%\n",
    "  group_by(island) %>%\n",
    "  summarise(body_mass_mean = mean(body_mass_g, na.rm = TRUE))"
   ]
  },
  {
   "cell_type": "markdown",
   "metadata": {
    "deletable": false,
    "editable": false,
    "nbgrader": {
     "cell_type": "markdown",
     "checksum": "8c143b931e225a48634b312ff1927b50",
     "grade": false,
     "grade_id": "cell-199c47f59d82515d",
     "locked": true,
     "schema_version": 3,
     "solution": false,
     "task": false
    }
   },
   "source": [
    "## QUESTION 1.17\n",
    "\n",
    "From the `penguins` tibble, calculate the mean penguin body mass per island by year, in a column named `body_mass_mean`. Your tibble should have the columns `year`, `island`, and `body_mass_mean` only (and in that order). Store the resulting tibble in a variable named `answer1.17`.\n",
    "\n",
    "```\n",
    "answer1.17 <- penguins %>%\n",
    "  group_by(FILL_THIS_IN) %>%\n",
    "  FILL_THIS_IN(body_mass_mean = mean(FILL_THIS_IN, na.rm = TRUE))\n",
    "```"
   ]
  },
  {
   "cell_type": "code",
   "execution_count": 92,
   "metadata": {
    "deletable": false,
    "name": "question-1-13",
    "nbgrader": {
     "cell_type": "code",
     "checksum": "607f7b5d647d09b649b7009e8aa1690b",
     "grade": false,
     "grade_id": "cell-c7cb5063ed993313",
     "locked": false,
     "schema_version": 3,
     "solution": true,
     "task": false
    }
   },
   "outputs": [
    {
     "name": "stderr",
     "output_type": "stream",
     "text": [
      "`summarise()` has grouped output by 'year'. You can override using the `.groups` argument.\n",
      "\n"
     ]
    },
    {
     "data": {
      "text/html": [
       "<table class=\"dataframe\">\n",
       "<caption>A grouped_df: 6 × 3</caption>\n",
       "<thead>\n",
       "\t<tr><th scope=col>year</th><th scope=col>island</th><th scope=col>body_mass_mean</th></tr>\n",
       "\t<tr><th scope=col>&lt;int&gt;</th><th scope=col>&lt;fct&gt;</th><th scope=col>&lt;dbl&gt;</th></tr>\n",
       "</thead>\n",
       "<tbody>\n",
       "\t<tr><td>2007</td><td>Biscoe   </td><td>4740.909</td></tr>\n",
       "\t<tr><td>2007</td><td>Dream    </td><td>3684.239</td></tr>\n",
       "\t<tr><td>2007</td><td>Torgersen</td><td>3763.158</td></tr>\n",
       "\t<tr><td>2008</td><td>Biscoe   </td><td>4628.125</td></tr>\n",
       "\t<tr><td>2008</td><td>Dream    </td><td>3779.412</td></tr>\n",
       "\t<tr><td>2008</td><td>Torgersen</td><td>3856.250</td></tr>\n",
       "</tbody>\n",
       "</table>\n"
      ],
      "text/latex": [
       "A grouped\\_df: 6 × 3\n",
       "\\begin{tabular}{lll}\n",
       " year & island & body\\_mass\\_mean\\\\\n",
       " <int> & <fct> & <dbl>\\\\\n",
       "\\hline\n",
       "\t 2007 & Biscoe    & 4740.909\\\\\n",
       "\t 2007 & Dream     & 3684.239\\\\\n",
       "\t 2007 & Torgersen & 3763.158\\\\\n",
       "\t 2008 & Biscoe    & 4628.125\\\\\n",
       "\t 2008 & Dream     & 3779.412\\\\\n",
       "\t 2008 & Torgersen & 3856.250\\\\\n",
       "\\end{tabular}\n"
      ],
      "text/markdown": [
       "\n",
       "A grouped_df: 6 × 3\n",
       "\n",
       "| year &lt;int&gt; | island &lt;fct&gt; | body_mass_mean &lt;dbl&gt; |\n",
       "|---|---|---|\n",
       "| 2007 | Biscoe    | 4740.909 |\n",
       "| 2007 | Dream     | 3684.239 |\n",
       "| 2007 | Torgersen | 3763.158 |\n",
       "| 2008 | Biscoe    | 4628.125 |\n",
       "| 2008 | Dream     | 3779.412 |\n",
       "| 2008 | Torgersen | 3856.250 |\n",
       "\n"
      ],
      "text/plain": [
       "  year island    body_mass_mean\n",
       "1 2007 Biscoe    4740.909      \n",
       "2 2007 Dream     3684.239      \n",
       "3 2007 Torgersen 3763.158      \n",
       "4 2008 Biscoe    4628.125      \n",
       "5 2008 Dream     3779.412      \n",
       "6 2008 Torgersen 3856.250      "
      ]
     },
     "metadata": {},
     "output_type": "display_data"
    }
   ],
   "source": [
    "answer1.17 <- penguins %>% \n",
    "    group_by(year, island) %>% \n",
    "    summarize(body_mass_mean = mean(body_mass_g, na.rm = TRUE))\n",
    "\n",
    "head(answer1.17)"
   ]
  },
  {
   "cell_type": "code",
   "execution_count": 93,
   "metadata": {
    "deletable": false,
    "editable": false,
    "name": "test-1-13",
    "nbgrader": {
     "cell_type": "code",
     "checksum": "0cd643a193960008ad3e2c62cffe4917",
     "grade": true,
     "grade_id": "cell-787a56e4c37460c9",
     "locked": true,
     "points": 1,
     "schema_version": 3,
     "solution": false,
     "task": false
    }
   },
   "outputs": [
    {
     "name": "stdout",
     "output_type": "stream",
     "text": [
      "\u001b[32mTest passed\u001b[39m \n",
      "success!"
     ]
    }
   ],
   "source": [
    "test_that(\"Question 1.17\", {\n",
    "  expect_equal(digest(dim(answer1.17)), \"f4885de1726d18557bd43d769cc0ae26\")\n",
    "  expect_equal(digest(colnames(answer1.17)), \"ba0c85220a5fa5222cac937acb2f94c2\")\n",
    "})\n",
    "cat(\"success!\")"
   ]
  },
  {
   "cell_type": "markdown",
   "metadata": {
    "deletable": false,
    "editable": false,
    "nbgrader": {
     "cell_type": "markdown",
     "checksum": "1179c68d77b11fbac0213e631baf31e6",
     "grade": false,
     "grade_id": "cell-26d8a38d2ac2d31c",
     "locked": true,
     "schema_version": 3,
     "solution": false,
     "task": false
    }
   },
   "source": [
    "# Part 2: Scoped variants with `across()`\n",
    "\n",
    "Sometimes we want to perform the same operation on many columns. We can achieve this by embedding the `across()` function within the `mutate()` or `summarise()` functions.\n",
    "\n",
    "## QUESTION 2.0\n",
    "\n",
    "In a single expression, make a tibble with the following columns *for each island* in the penguins data set:\n",
    "\n",
    "+ What is the *mean* of each numeric variable in the `penguins` dataset in each island? Keep the column names the same.\n",
    "+ How many penguins are there in each island? Add this to a column named `n`.\n",
    "\n",
    "Assign your answer to a variable named `answer2.0`\n",
    "\n",
    "```\n",
    "answer2.0 <- penguins %>% \n",
    " group_by(FILL_THIS_IN) %>% \n",
    " summarise(across(where(FILL_THIS_IN), FILL_THIS_IN, na.rm = TRUE), \n",
    "           n = n())\n",
    "```"
   ]
  },
  {
   "cell_type": "code",
   "execution_count": 95,
   "metadata": {
    "deletable": false,
    "nbgrader": {
     "cell_type": "code",
     "checksum": "bdba6f6c61b1fb775dfd845f40134f16",
     "grade": false,
     "grade_id": "cell-3f56050dd1cb58c1",
     "locked": false,
     "schema_version": 3,
     "solution": true,
     "task": false
    }
   },
   "outputs": [
    {
     "data": {
      "text/html": [
       "<table class=\"dataframe\">\n",
       "<caption>A tibble: 3 × 7</caption>\n",
       "<thead>\n",
       "\t<tr><th scope=col>island</th><th scope=col>bill_length_mm</th><th scope=col>bill_depth_mm</th><th scope=col>flipper_length_mm</th><th scope=col>body_mass_g</th><th scope=col>year</th><th scope=col>n</th></tr>\n",
       "\t<tr><th scope=col>&lt;fct&gt;</th><th scope=col>&lt;dbl&gt;</th><th scope=col>&lt;dbl&gt;</th><th scope=col>&lt;dbl&gt;</th><th scope=col>&lt;dbl&gt;</th><th scope=col>&lt;dbl&gt;</th><th scope=col>&lt;int&gt;</th></tr>\n",
       "</thead>\n",
       "<tbody>\n",
       "\t<tr><td>Biscoe   </td><td>45.25749</td><td>15.87485</td><td>209.7066</td><td>4716.018</td><td>2008.095</td><td>168</td></tr>\n",
       "\t<tr><td>Dream    </td><td>44.16774</td><td>18.34435</td><td>193.0726</td><td>3712.903</td><td>2007.984</td><td>124</td></tr>\n",
       "\t<tr><td>Torgersen</td><td>38.95098</td><td>18.42941</td><td>191.1961</td><td>3706.373</td><td>2007.923</td><td> 52</td></tr>\n",
       "</tbody>\n",
       "</table>\n"
      ],
      "text/latex": [
       "A tibble: 3 × 7\n",
       "\\begin{tabular}{lllllll}\n",
       " island & bill\\_length\\_mm & bill\\_depth\\_mm & flipper\\_length\\_mm & body\\_mass\\_g & year & n\\\\\n",
       " <fct> & <dbl> & <dbl> & <dbl> & <dbl> & <dbl> & <int>\\\\\n",
       "\\hline\n",
       "\t Biscoe    & 45.25749 & 15.87485 & 209.7066 & 4716.018 & 2008.095 & 168\\\\\n",
       "\t Dream     & 44.16774 & 18.34435 & 193.0726 & 3712.903 & 2007.984 & 124\\\\\n",
       "\t Torgersen & 38.95098 & 18.42941 & 191.1961 & 3706.373 & 2007.923 &  52\\\\\n",
       "\\end{tabular}\n"
      ],
      "text/markdown": [
       "\n",
       "A tibble: 3 × 7\n",
       "\n",
       "| island &lt;fct&gt; | bill_length_mm &lt;dbl&gt; | bill_depth_mm &lt;dbl&gt; | flipper_length_mm &lt;dbl&gt; | body_mass_g &lt;dbl&gt; | year &lt;dbl&gt; | n &lt;int&gt; |\n",
       "|---|---|---|---|---|---|---|\n",
       "| Biscoe    | 45.25749 | 15.87485 | 209.7066 | 4716.018 | 2008.095 | 168 |\n",
       "| Dream     | 44.16774 | 18.34435 | 193.0726 | 3712.903 | 2007.984 | 124 |\n",
       "| Torgersen | 38.95098 | 18.42941 | 191.1961 | 3706.373 | 2007.923 |  52 |\n",
       "\n"
      ],
      "text/plain": [
       "  island    bill_length_mm bill_depth_mm flipper_length_mm body_mass_g year    \n",
       "1 Biscoe    45.25749       15.87485      209.7066          4716.018    2008.095\n",
       "2 Dream     44.16774       18.34435      193.0726          3712.903    2007.984\n",
       "3 Torgersen 38.95098       18.42941      191.1961          3706.373    2007.923\n",
       "  n  \n",
       "1 168\n",
       "2 124\n",
       "3  52"
      ]
     },
     "metadata": {},
     "output_type": "display_data"
    }
   ],
   "source": [
    "answer2.0 <- penguins %>% \n",
    "    group_by(island) %>% \n",
    "    summarise(across(where(is.numeric), mean, na.rm = TRUE), \n",
    "             n = n())\n",
    "\n",
    "head(answer2.0)        "
   ]
  },
  {
   "cell_type": "code",
   "execution_count": 96,
   "metadata": {
    "deletable": false,
    "editable": false,
    "nbgrader": {
     "cell_type": "code",
     "checksum": "a858cba5b40cfcc59c2700c86127bc41",
     "grade": true,
     "grade_id": "cell-e8681c978652b8f9",
     "locked": true,
     "points": 1,
     "schema_version": 3,
     "solution": false,
     "task": false
    }
   },
   "outputs": [
    {
     "name": "stdout",
     "output_type": "stream",
     "text": [
      "\u001b[32mTest passed\u001b[39m \n",
      "success!"
     ]
    }
   ],
   "source": [
    "test_that(\"Answer 2.0\", {\n",
    "    expect_equal(\n",
    "        answer2.0 %>% \n",
    "          mutate(across(where(is.numeric), round, digits = 0)) %>% \n",
    "          unclass() %>% \n",
    "          digest(),\n",
    "        \"b06d7816762e489a57ca922d175f08ef\"\n",
    "    )\n",
    "})\n",
    "cat(\"success!\")"
   ]
  },
  {
   "cell_type": "markdown",
   "metadata": {
    "deletable": false,
    "editable": false,
    "nbgrader": {
     "cell_type": "markdown",
     "checksum": "83d951fef9c8757743488112a7d16eb3",
     "grade": false,
     "grade_id": "cell-ecc146b97be77724",
     "locked": true,
     "schema_version": 3,
     "solution": false,
     "task": false
    }
   },
   "source": [
    "## QUESTION 2.1\n",
    "\n",
    "Using the `penguins` dataset, what is the mean bill length and depth of penguins on each island, by year? The resulting tibble should have columns named `island`, `year`, `bill_length_mm`, and `bill_depth_mm`, in that order. Store the result in a variable named `answer2.1`. Be sure to remove NA's when you are calculating the mean. \n",
    "\n",
    "*Hint*: Use `starts_with()` instead of `where()` in the `across()` function.\n",
    "\n",
    "```\n",
    "answer2.1 <- penguins %>%\n",
    "    group_by(FILL_THIS_IN) %>%\n",
    "    summarise(across(FILL_THIS_IN))\n",
    "```"
   ]
  },
  {
   "cell_type": "code",
   "execution_count": 100,
   "metadata": {
    "deletable": false,
    "nbgrader": {
     "cell_type": "code",
     "checksum": "1371fe515850be553208d529a4ee867f",
     "grade": false,
     "grade_id": "cell-a53b4a22a4bdbd25",
     "locked": false,
     "schema_version": 3,
     "solution": true,
     "task": false
    }
   },
   "outputs": [
    {
     "name": "stderr",
     "output_type": "stream",
     "text": [
      "`summarise()` has grouped output by 'island'. You can override using the `.groups` argument.\n",
      "\n"
     ]
    },
    {
     "data": {
      "text/html": [
       "<table class=\"dataframe\">\n",
       "<caption>A grouped_df: 6 × 4</caption>\n",
       "<thead>\n",
       "\t<tr><th scope=col>island</th><th scope=col>year</th><th scope=col>bill_length_mm</th><th scope=col>bill_depth_mm</th></tr>\n",
       "\t<tr><th scope=col>&lt;fct&gt;</th><th scope=col>&lt;int&gt;</th><th scope=col>&lt;dbl&gt;</th><th scope=col>&lt;dbl&gt;</th></tr>\n",
       "</thead>\n",
       "<tbody>\n",
       "\t<tr><td>Biscoe</td><td>2007</td><td>45.03864</td><td>15.54091</td></tr>\n",
       "\t<tr><td>Biscoe</td><td>2008</td><td>44.62031</td><td>15.82500</td></tr>\n",
       "\t<tr><td>Biscoe</td><td>2009</td><td>46.11186</td><td>16.17797</td></tr>\n",
       "\t<tr><td>Dream </td><td>2007</td><td>44.53913</td><td>18.57391</td></tr>\n",
       "\t<tr><td>Dream </td><td>2008</td><td>43.75588</td><td>18.39706</td></tr>\n",
       "\t<tr><td>Dream </td><td>2009</td><td>44.09773</td><td>18.06364</td></tr>\n",
       "</tbody>\n",
       "</table>\n"
      ],
      "text/latex": [
       "A grouped\\_df: 6 × 4\n",
       "\\begin{tabular}{llll}\n",
       " island & year & bill\\_length\\_mm & bill\\_depth\\_mm\\\\\n",
       " <fct> & <int> & <dbl> & <dbl>\\\\\n",
       "\\hline\n",
       "\t Biscoe & 2007 & 45.03864 & 15.54091\\\\\n",
       "\t Biscoe & 2008 & 44.62031 & 15.82500\\\\\n",
       "\t Biscoe & 2009 & 46.11186 & 16.17797\\\\\n",
       "\t Dream  & 2007 & 44.53913 & 18.57391\\\\\n",
       "\t Dream  & 2008 & 43.75588 & 18.39706\\\\\n",
       "\t Dream  & 2009 & 44.09773 & 18.06364\\\\\n",
       "\\end{tabular}\n"
      ],
      "text/markdown": [
       "\n",
       "A grouped_df: 6 × 4\n",
       "\n",
       "| island &lt;fct&gt; | year &lt;int&gt; | bill_length_mm &lt;dbl&gt; | bill_depth_mm &lt;dbl&gt; |\n",
       "|---|---|---|---|\n",
       "| Biscoe | 2007 | 45.03864 | 15.54091 |\n",
       "| Biscoe | 2008 | 44.62031 | 15.82500 |\n",
       "| Biscoe | 2009 | 46.11186 | 16.17797 |\n",
       "| Dream  | 2007 | 44.53913 | 18.57391 |\n",
       "| Dream  | 2008 | 43.75588 | 18.39706 |\n",
       "| Dream  | 2009 | 44.09773 | 18.06364 |\n",
       "\n"
      ],
      "text/plain": [
       "  island year bill_length_mm bill_depth_mm\n",
       "1 Biscoe 2007 45.03864       15.54091     \n",
       "2 Biscoe 2008 44.62031       15.82500     \n",
       "3 Biscoe 2009 46.11186       16.17797     \n",
       "4 Dream  2007 44.53913       18.57391     \n",
       "5 Dream  2008 43.75588       18.39706     \n",
       "6 Dream  2009 44.09773       18.06364     "
      ]
     },
     "metadata": {},
     "output_type": "display_data"
    }
   ],
   "source": [
    "answer2.1 <- penguins %>%  \n",
    "    group_by(island, year) %>% \n",
    "    summarise(across(starts_with(\"bill\"), mean, na.rm = TRUE))\n",
    "    \n",
    "head(answer2.1)"
   ]
  },
  {
   "cell_type": "code",
   "execution_count": 101,
   "metadata": {
    "deletable": false,
    "editable": false,
    "nbgrader": {
     "cell_type": "code",
     "checksum": "549e7c600cfe7c78e717643ae4dc9381",
     "grade": true,
     "grade_id": "cell-69502fa952a45d71",
     "locked": true,
     "points": 1,
     "schema_version": 3,
     "solution": false,
     "task": false
    }
   },
   "outputs": [
    {
     "name": "stdout",
     "output_type": "stream",
     "text": [
      "\u001b[32mTest passed\u001b[39m \n",
      "success!"
     ]
    }
   ],
   "source": [
    "test_that(\"Answer 2.1\", {\n",
    "    expect_equal(names(answer2.1), c(\"island\", \"year\", \"bill_length_mm\", \"bill_depth_mm\"))\n",
    "    sorted <- answer2.1 %>%\n",
    "       arrange(island, year)\n",
    "    expect_identical(digest(round(sorted$bill_length_mm, 0)), \"f9f46fe0b2604eac7903505876e4b240\")\n",
    "    expect_identical(digest(round(sorted$bill_depth_mm, 0)), \"d54992e0dbb34479e18f4f73ff1f16f4\")\n",
    "})\n",
    "cat(\"success!\")"
   ]
  },
  {
   "cell_type": "code",
   "execution_count": null,
   "metadata": {},
   "outputs": [],
   "source": []
  }
 ],
 "metadata": {
  "jupytext": {
   "cell_metadata_filter": "name,eval,message,fig.height,warning,fig.width,-all",
   "notebook_metadata_filter": "-all",
   "text_representation": {
    "extension": ".Rmd",
    "format_name": "rmarkdown"
   }
  },
  "kernelspec": {
   "display_name": "R",
   "language": "R",
   "name": "ir"
  },
  "language_info": {
   "codemirror_mode": "r",
   "file_extension": ".r",
   "mimetype": "text/x-r-source",
   "name": "R",
   "pygments_lexer": "r",
   "version": "4.1.1"
  }
 },
 "nbformat": 4,
 "nbformat_minor": 4
}
